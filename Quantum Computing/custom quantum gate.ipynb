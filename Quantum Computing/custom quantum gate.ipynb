{
 "cells": [
  {
   "cell_type": "markdown",
   "id": "46b710ec-8dbc-473f-b7fe-1d5fee0b3d2e",
   "metadata": {},
   "source": [
    "# Custom Quantum Gate"
   ]
  },
  {
   "cell_type": "markdown",
   "id": "71546fa5-1bb0-49c0-b4aa-953fbca2ba95",
   "metadata": {},
   "source": [
    "## Cirq"
   ]
  },
  {
   "cell_type": "code",
   "execution_count": 1,
   "id": "c66d2605-5fe4-45b2-bc33-b2d4723ea3f8",
   "metadata": {},
   "outputs": [],
   "source": [
    "import matplotlib.pyplot as plt \n",
    "import numpy as np\n",
    "\n",
    "import cirq"
   ]
  },
  {
   "cell_type": "code",
   "execution_count": 2,
   "id": "1c0ab585-d46a-46f5-a966-22709da2dbb2",
   "metadata": {},
   "outputs": [],
   "source": [
    "\"\"\"Define a custom single-qubit gate.\"\"\"\n",
    "class MyGate(cirq.Gate):\n",
    "    def __init__(self):\n",
    "        super(MyGate, self)\n",
    "\n",
    "    def _num_qubits_(self):\n",
    "        return 1\n",
    "\n",
    "    def _unitary_(self):\n",
    "        return np.array([\n",
    "            [1.0,  1.0],\n",
    "            [-1.0, 1.0]\n",
    "        ]) / np.sqrt(2)\n",
    "\n",
    "    def _circuit_diagram_info_(self, args):\n",
    "        return \"G\"\n",
    "\n",
    "my_gate = MyGate()"
   ]
  },
  {
   "cell_type": "code",
   "execution_count": 3,
   "id": "b8c9d0a8-2259-469f-8971-fb83b330b573",
   "metadata": {},
   "outputs": [],
   "source": [
    "q0 = cirq.NamedQubit(\"q0\")"
   ]
  },
  {
   "cell_type": "code",
   "execution_count": 4,
   "id": "74cc4247-8223-40d5-a949-b0b5b84e230b",
   "metadata": {},
   "outputs": [],
   "source": [
    "circuit = cirq.Circuit(\n",
    "     my_gate.on(q0),\n",
    ")"
   ]
  },
  {
   "cell_type": "code",
   "execution_count": 5,
   "id": "51aaecfb-d2cf-4bbc-b2cd-0d72f8e799a8",
   "metadata": {},
   "outputs": [
    {
     "data": {
      "image/svg+xml": [
       "<svg xmlns=\"http://www.w3.org/2000/svg\" width=\"160.0\" height=\"50.0\"><line x1=\"30.0\" x2=\"130.0\" y1=\"25.0\" y2=\"25.0\" stroke=\"#1967d2\" stroke-width=\"1\" /><rect x=\"10.0\" y=\"5.0\" width=\"40\" height=\"40\" stroke=\"black\" fill=\"white\" stroke-width=\"0\" /><text x=\"30.0\" y=\"25.0\" dominant-baseline=\"middle\" text-anchor=\"middle\" font-size=\"14px\" font-family=\"Arial\">q0: </text><rect x=\"70.0\" y=\"5.0\" width=\"40\" height=\"40\" stroke=\"black\" fill=\"white\" stroke-width=\"1\" /><text x=\"90.0\" y=\"25.0\" dominant-baseline=\"middle\" text-anchor=\"middle\" font-size=\"18px\" font-family=\"Arial\">G</text></svg>"
      ],
      "text/plain": [
       "<cirq.contrib.svg.svg.SVGCircuit at 0x7f93938c3350>"
      ]
     },
     "execution_count": 5,
     "metadata": {},
     "output_type": "execute_result"
    }
   ],
   "source": [
    "from cirq.contrib.svg import SVGCircuit\n",
    "SVGCircuit(circuit)"
   ]
  },
  {
   "cell_type": "code",
   "execution_count": 6,
   "id": "768fe392-a74b-4943-8c18-ead4279450b6",
   "metadata": {},
   "outputs": [],
   "source": [
    "simulator = cirq.Simulator()\n",
    "result = simulator.simulate(circuit)"
   ]
  },
  {
   "cell_type": "code",
   "execution_count": 7,
   "id": "f6725c49-e7b1-431e-81dd-4e25a2cd93cd",
   "metadata": {},
   "outputs": [
    {
     "name": "stdout",
     "output_type": "stream",
     "text": [
      "measurements: (no measurements)\n",
      "\n",
      "qubits: (cirq.NamedQubit('q0'),)\n",
      "output vector: 0.707|0⟩ - 0.707|1⟩\n",
      "\n",
      "phase:\n",
      "output vector: |⟩\n"
     ]
    }
   ],
   "source": [
    "print(result)"
   ]
  }
 ],
 "metadata": {
  "kernelspec": {
   "display_name": "Python 3 (ipykernel)",
   "language": "python",
   "name": "python3"
  },
  "language_info": {
   "codemirror_mode": {
    "name": "ipython",
    "version": 3
   },
   "file_extension": ".py",
   "mimetype": "text/x-python",
   "name": "python",
   "nbconvert_exporter": "python",
   "pygments_lexer": "ipython3",
   "version": "3.7.11"
  }
 },
 "nbformat": 4,
 "nbformat_minor": 5
}
