{
 "cells": [
  {
   "cell_type": "markdown",
   "id": "c53fb5a4-03df-41d5-a7a2-789b3380d199",
   "metadata": {},
   "source": [
    "# Deutsch' Algorithm"
   ]
  },
  {
   "cell_type": "markdown",
   "id": "d193296c-49ab-444a-9c24-3f6615eb7832",
   "metadata": {},
   "source": [
    "## Cirq"
   ]
  },
  {
   "cell_type": "code",
   "execution_count": 35,
   "id": "0b9bedc9-affb-453b-a8d9-4fd77970f464",
   "metadata": {},
   "outputs": [
    {
     "name": "stdout",
     "output_type": "stream",
     "text": [
      "balanced m=1111111111\n",
      "constant0 m=0000000000\n",
      "constant1 m=0000000000\n"
     ]
    }
   ],
   "source": [
    "import cirq\n",
    "\n",
    "q0 = cirq.NamedQubit(\"q0\")\n",
    "q1 = cirq.NamedQubit(\"q1\")\n",
    "\n",
    "# Create a circuit\n",
    "init = cirq.Circuit(\n",
    "    cirq.H(q0),\n",
    "    cirq.X(q1),\n",
    "    cirq.H(q1)\n",
    ")\n",
    "\n",
    "# Oralces\n",
    "balanced = cirq.Circuit(\n",
    "     cirq.CNOT(q0, q1)\n",
    ")\n",
    "\n",
    "constant0 = cirq.Circuit()\n",
    "constant1 = cirq.Circuit(\n",
    "    cirq.X(q1)\n",
    ")\n",
    "\n",
    "# at the end, apply h to input bit and measure it\n",
    "end = cirq.Circuit(\n",
    "    cirq.H(q0),\n",
    "    cirq.measure(q0, key='m')\n",
    ")\n",
    "\n",
    "simulator = cirq.Simulator()\n",
    "\n",
    "for kind, oracle in (('balanced', balanced),('constant0', constant0),('constant1', constant1)):\n",
    "    result = simulator.run(init + oracle + end, repetitions=10)\n",
    "    print(kind, result)"
   ]
  },
  {
   "cell_type": "markdown",
   "id": "289ba37a-8357-4034-83a3-89b9e73b6f66",
   "metadata": {},
   "source": [
    "## Qiskit"
   ]
  },
  {
   "cell_type": "code",
   "execution_count": 39,
   "id": "04f8f959-307b-42a4-bdb3-37b9c0f2eaaa",
   "metadata": {},
   "outputs": [
    {
     "name": "stdout",
     "output_type": "stream",
     "text": [
      "balanced {'1': 10}\n",
      "constant0 {'0': 10}\n",
      "constant1 {'0': 10}\n"
     ]
    },
    {
     "name": "stderr",
     "output_type": "stream",
     "text": [
      "/Users/alfred/opt/anaconda3/envs/py37/lib/python3.7/site-packages/ipykernel_launcher.py:32: DeprecationWarning: The QuantumCircuit.__add__() method is being deprecated.Use the compose() method which is more flexible w.r.t circuit register compatibility.\n"
     ]
    }
   ],
   "source": [
    "import qiskit as qs\n",
    "from qiskit import QuantumCircuit, QuantumRegister,ClassicalRegister\n",
    "from qiskit import IBMQ, assemble, Aer, BasicAer, transpile, execute\n",
    "from qiskit.providers.aer import QasmSimulator\n",
    "from qiskit import transpile\n",
    "\n",
    "init = QuantumCircuit(2)\n",
    "init.h(0)\n",
    "init.x(1)\n",
    "init.h(1)\n",
    "init.barrier()\n",
    "\n",
    "# Oracles\n",
    "balanced = QuantumCircuit(2)\n",
    "balanced.cx(0,1)\n",
    "balanced.barrier()\n",
    "\n",
    "constant0 = QuantumCircuit(2)\n",
    "constant0.barrier()\n",
    "\n",
    "constant1 = QuantumCircuit(2)\n",
    "constant1.x(1)\n",
    "constant1.barrier()\n",
    "\n",
    "# at the end, apply h to input bit and measure it\n",
    "end = QuantumCircuit(2,1)\n",
    "end.h(0)\n",
    "end.measure(0,0)\n",
    "\n",
    "sim = Aer.get_backend('aer_simulator')\n",
    "for kind, oracle in (('balanced', balanced),('constant0', constant0),('constant1', constant1)):\n",
    "    circuit = init + oracle + end\n",
    "    result = sim.run(circuit,shots=10).result()\n",
    "    counts = result.get_counts()\n",
    "    print(kind, counts)\n",
    "    "
   ]
  },
  {
   "cell_type": "code",
   "execution_count": null,
   "id": "5ec17b53-b5c9-47cd-acad-3be3c1323f5e",
   "metadata": {},
   "outputs": [],
   "source": []
  }
 ],
 "metadata": {
  "kernelspec": {
   "display_name": "Python 3 (ipykernel)",
   "language": "python",
   "name": "python3"
  },
  "language_info": {
   "codemirror_mode": {
    "name": "ipython",
    "version": 3
   },
   "file_extension": ".py",
   "mimetype": "text/x-python",
   "name": "python",
   "nbconvert_exporter": "python",
   "pygments_lexer": "ipython3",
   "version": "3.7.11"
  }
 },
 "nbformat": 4,
 "nbformat_minor": 5
}
