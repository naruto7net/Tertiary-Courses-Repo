{
 "cells": [
  {
   "cell_type": "code",
   "execution_count": 195,
   "id": "284a3470-747f-4122-8f3d-9d4bcc1eca30",
   "metadata": {},
   "outputs": [],
   "source": [
    "import numpy as np \n",
    "import pandas as pd \n",
    "import requests\n",
    "import math\n",
    "import time"
   ]
  },
  {
   "cell_type": "code",
   "execution_count": 206,
   "id": "138ac7a1-eea3-4940-92f3-192d434c3d30",
   "metadata": {},
   "outputs": [
    {
     "name": "stdout",
     "output_type": "stream",
     "text": [
      "read file succesfully\n"
     ]
    }
   ],
   "source": [
    "# replace with your own API key\n",
    "try:\n",
    "    IEX_CLOUD_API_TOKEN = open('excloud_apikey.txt').read()\n",
    "    print(\"read file succesfully\")\n",
    "except:\n",
    "    print(\"error in reading file\")"
   ]
  },
  {
   "cell_type": "code",
   "execution_count": 207,
   "id": "5f0c4baa-e5b9-4595-9a44-dadd5fd452d4",
   "metadata": {},
   "outputs": [
    {
     "data": {
      "text/plain": [
       "{'avgTotalVolume': 76070691,\n",
       " 'calculationPrice': 'tops',\n",
       " 'change': -1.54,\n",
       " 'changePercent': -0.0102,\n",
       " 'close': 0,\n",
       " 'closeSource': 'ffiaicol',\n",
       " 'closeTime': None,\n",
       " 'companyName': 'Apple Inc',\n",
       " 'currency': 'USD',\n",
       " 'delayedPrice': None,\n",
       " 'delayedPriceTime': None,\n",
       " 'extendedChange': None,\n",
       " 'extendedChangePercent': None,\n",
       " 'extendedPrice': None,\n",
       " 'extendedPriceTime': None,\n",
       " 'high': 0,\n",
       " 'highSource': None,\n",
       " 'highTime': None,\n",
       " 'iexAskPrice': 160,\n",
       " 'iexAskSize': 101,\n",
       " 'iexBidPrice': 156.89,\n",
       " 'iexBidSize': 392,\n",
       " 'iexClose': 158.44,\n",
       " 'iexCloseTime': 1697647935642,\n",
       " 'iexLastUpdated': 1738633838650,\n",
       " 'iexMarketPercent': 0.02298698287334582,\n",
       " 'iexOpen': 158.85,\n",
       " 'iexOpenTime': 1707273591973,\n",
       " 'iexRealtimePrice': 157.09,\n",
       " 'iexRealtimeSize': 67,\n",
       " 'iexVolume': 947859,\n",
       " 'lastTradeTime': 1662792313875,\n",
       " 'latestPrice': 158.92,\n",
       " 'latestSource': 'IEX real time price',\n",
       " 'latestTime': '1:43:44 PM',\n",
       " 'latestUpdate': 1662223697976,\n",
       " 'latestVolume': None,\n",
       " 'low': 0,\n",
       " 'lowSource': ' ec etarIp EerlmXii',\n",
       " 'lowTime': 1672454217348,\n",
       " 'marketCap': 2536337148220,\n",
       " 'oddLotDelayedPrice': None,\n",
       " 'oddLotDelayedPriceTime': None,\n",
       " 'open': 0,\n",
       " 'openTime': None,\n",
       " 'openSource': 'ifcloaif',\n",
       " 'peRatio': 25.02,\n",
       " 'previousClose': 160.92,\n",
       " 'previousVolume': 67013467,\n",
       " 'primaryExchange': 'NQSADA',\n",
       " 'symbol': 'AAPL',\n",
       " 'volume': None,\n",
       " 'week52High': 187.88,\n",
       " 'week52Low': 133.73,\n",
       " 'ytdChange': -0.13340594347095164,\n",
       " 'isUSMarketOpen': True}"
      ]
     },
     "execution_count": 207,
     "metadata": {},
     "output_type": "execute_result"
    }
   ],
   "source": [
    "symbol='AAPL'\n",
    "api_url = f'https://sandbox.iexapis.com/stable/stock/{symbol}/quote?token={IEX_CLOUD_API_TOKEN}'\n",
    "data = requests.get(api_url).json()\n",
    "data"
   ]
  },
  {
   "cell_type": "code",
   "execution_count": 208,
   "id": "cb6657d4-2970-42db-988e-0ed4d13dae4e",
   "metadata": {},
   "outputs": [
    {
     "name": "stdout",
     "output_type": "stream",
     "text": [
      "Latest Price =  158.92\n",
      "Market Capitalization =  2536337148220\n",
      "PERatio =  25.02\n"
     ]
    }
   ],
   "source": [
    "print('Latest Price = ', data['latestPrice'])\n",
    "print('Market Capitalization = ', data['marketCap'])\n",
    "print('PERatio = ', data['peRatio'])"
   ]
  },
  {
   "cell_type": "code",
   "execution_count": 209,
   "id": "70855bbd-2370-4ce7-bcef-499ebe4dcfbd",
   "metadata": {},
   "outputs": [
    {
     "data": {
      "text/html": [
       "<div>\n",
       "<style scoped>\n",
       "    .dataframe tbody tr th:only-of-type {\n",
       "        vertical-align: middle;\n",
       "    }\n",
       "\n",
       "    .dataframe tbody tr th {\n",
       "        vertical-align: top;\n",
       "    }\n",
       "\n",
       "    .dataframe thead th {\n",
       "        text-align: right;\n",
       "    }\n",
       "</style>\n",
       "<table border=\"1\" class=\"dataframe\">\n",
       "  <thead>\n",
       "    <tr style=\"text-align: right;\">\n",
       "      <th></th>\n",
       "      <th>Ticker</th>\n",
       "      <th>Price</th>\n",
       "      <th>Market Capitalization</th>\n",
       "      <th>PE Ratio</th>\n",
       "    </tr>\n",
       "  </thead>\n",
       "  <tbody>\n",
       "  </tbody>\n",
       "</table>\n",
       "</div>"
      ],
      "text/plain": [
       "Empty DataFrame\n",
       "Columns: [Ticker, Price, Market Capitalization, PE Ratio]\n",
       "Index: []"
      ]
     },
     "execution_count": 209,
     "metadata": {},
     "output_type": "execute_result"
    }
   ],
   "source": [
    "my_columns = ['Ticker', 'Price','Market Capitalization', 'PE Ratio']\n",
    "df = pd.DataFrame(columns = my_columns)\n",
    "df"
   ]
  },
  {
   "cell_type": "code",
   "execution_count": 211,
   "id": "dddf00e1-21ee-462c-a0e5-47db03b0c41a",
   "metadata": {},
   "outputs": [
    {
     "data": {
      "text/html": [
       "<div>\n",
       "<style scoped>\n",
       "    .dataframe tbody tr th:only-of-type {\n",
       "        vertical-align: middle;\n",
       "    }\n",
       "\n",
       "    .dataframe tbody tr th {\n",
       "        vertical-align: top;\n",
       "    }\n",
       "\n",
       "    .dataframe thead th {\n",
       "        text-align: right;\n",
       "    }\n",
       "</style>\n",
       "<table border=\"1\" class=\"dataframe\">\n",
       "  <thead>\n",
       "    <tr style=\"text-align: right;\">\n",
       "      <th></th>\n",
       "      <th>Ticker</th>\n",
       "      <th>Price</th>\n",
       "      <th>Market Capitalization</th>\n",
       "      <th>PE Ratio</th>\n",
       "    </tr>\n",
       "  </thead>\n",
       "  <tbody>\n",
       "    <tr>\n",
       "      <th>0</th>\n",
       "      <td>AAPL</td>\n",
       "      <td>154.490</td>\n",
       "      <td>2539517544791</td>\n",
       "      <td>25.37</td>\n",
       "    </tr>\n",
       "    <tr>\n",
       "      <th>1</th>\n",
       "      <td>TSLA</td>\n",
       "      <td>847.102</td>\n",
       "      <td>882751884452</td>\n",
       "      <td>113.99</td>\n",
       "    </tr>\n",
       "    <tr>\n",
       "      <th>2</th>\n",
       "      <td>META</td>\n",
       "      <td>176.349</td>\n",
       "      <td>499380645551</td>\n",
       "      <td>12.98</td>\n",
       "    </tr>\n",
       "  </tbody>\n",
       "</table>\n",
       "</div>"
      ],
      "text/plain": [
       "  Ticker    Price Market Capitalization  PE Ratio\n",
       "0   AAPL  154.490         2539517544791     25.37\n",
       "1   TSLA  847.102          882751884452    113.99\n",
       "2   META  176.349          499380645551     12.98"
      ]
     },
     "execution_count": 211,
     "metadata": {},
     "output_type": "execute_result"
    }
   ],
   "source": [
    "tickers = ['AAPL','TSLA','META']\n",
    "for i,symbol in enumerate(tickers):\n",
    "    api_url = f'https://sandbox.iexapis.com/stable/stock/{symbol}/quote?token={IEX_CLOUD_API_TOKEN}'\n",
    "    data = requests.get(api_url).json()\n",
    "    df.loc[i] = [f'{symbol}',data['latestPrice'],data['marketCap'],data['peRatio']]\n",
    "df"
   ]
  },
  {
   "cell_type": "code",
   "execution_count": 212,
   "id": "3ba1b376-0bda-4b24-b924-6e10123f6695",
   "metadata": {},
   "outputs": [
    {
     "data": {
      "text/html": [
       "<div>\n",
       "<style scoped>\n",
       "    .dataframe tbody tr th:only-of-type {\n",
       "        vertical-align: middle;\n",
       "    }\n",
       "\n",
       "    .dataframe tbody tr th {\n",
       "        vertical-align: top;\n",
       "    }\n",
       "\n",
       "    .dataframe thead th {\n",
       "        text-align: right;\n",
       "    }\n",
       "</style>\n",
       "<table border=\"1\" class=\"dataframe\">\n",
       "  <thead>\n",
       "    <tr style=\"text-align: right;\">\n",
       "      <th></th>\n",
       "      <th>Ticker</th>\n",
       "      <th>Price</th>\n",
       "      <th>Market Capitalization</th>\n",
       "      <th>PE Ratio</th>\n",
       "    </tr>\n",
       "  </thead>\n",
       "  <tbody>\n",
       "    <tr>\n",
       "      <th>2</th>\n",
       "      <td>META</td>\n",
       "      <td>176.349</td>\n",
       "      <td>499380645551</td>\n",
       "      <td>12.98</td>\n",
       "    </tr>\n",
       "    <tr>\n",
       "      <th>0</th>\n",
       "      <td>AAPL</td>\n",
       "      <td>154.490</td>\n",
       "      <td>2539517544791</td>\n",
       "      <td>25.37</td>\n",
       "    </tr>\n",
       "    <tr>\n",
       "      <th>1</th>\n",
       "      <td>TSLA</td>\n",
       "      <td>847.102</td>\n",
       "      <td>882751884452</td>\n",
       "      <td>113.99</td>\n",
       "    </tr>\n",
       "  </tbody>\n",
       "</table>\n",
       "</div>"
      ],
      "text/plain": [
       "  Ticker    Price Market Capitalization  PE Ratio\n",
       "2   META  176.349          499380645551     12.98\n",
       "0   AAPL  154.490         2539517544791     25.37\n",
       "1   TSLA  847.102          882751884452    113.99"
      ]
     },
     "execution_count": 212,
     "metadata": {},
     "output_type": "execute_result"
    }
   ],
   "source": [
    "df.sort_values(\"PE Ratio\")"
   ]
  },
  {
   "cell_type": "code",
   "execution_count": null,
   "id": "3eac4a4f-d2f2-4e76-9f89-41e5f669480e",
   "metadata": {},
   "outputs": [],
   "source": []
  }
 ],
 "metadata": {
  "kernelspec": {
   "display_name": "Python 3 (ipykernel)",
   "language": "python",
   "name": "python3"
  },
  "language_info": {
   "codemirror_mode": {
    "name": "ipython",
    "version": 3
   },
   "file_extension": ".py",
   "mimetype": "text/x-python",
   "name": "python",
   "nbconvert_exporter": "python",
   "pygments_lexer": "ipython3",
   "version": "3.7.11"
  }
 },
 "nbformat": 4,
 "nbformat_minor": 5
}
