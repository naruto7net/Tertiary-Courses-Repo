{
 "cells": [
  {
   "cell_type": "code",
   "execution_count": 50,
   "id": "084e3743-619f-4b9a-a673-2184c5cd3676",
   "metadata": {},
   "outputs": [],
   "source": [
    "import alpaca_trade_api as tradeapi\n",
    "\n",
    "# Read Alpaca Key and Secret\n",
    "f = open('alpaca_keys.txt', 'r').read().split('\\n')\n",
    "API_KEY = f[0]\n",
    "SECRET_KEY = f[1]"
   ]
  },
  {
   "cell_type": "code",
   "execution_count": 51,
   "id": "db58d2d7-8485-412e-8f13-6f817d8b107f",
   "metadata": {},
   "outputs": [],
   "source": [
    "class Alpaca_Trade():\n",
    "    def __init__(self,API_KEY, SECRET_KEY,ticker):\n",
    "        self.key = API_KEY\n",
    "        self.secret = SECRET_KEY\n",
    "        self.alpaca_endpoint = 'https://paper-api.alpaca.markets'\n",
    "        self.api = tradeapi.REST(self.key,self.secret,self.alpaca_endpoint,api_version='v2')\n",
    "        self.symbol = ticker\n",
    "        \n",
    "        account=self.api.get_account()\n",
    "        print(account.status)\n",
    "\n",
    "        try:\n",
    "            self.position = int(self.api.get_position(self.symbol().qty))\n",
    "        except:\n",
    "            self.position = 0\n",
    "        \n",
    "        print(f'Current holding {self.position} {self.symbol} stocks')\n",
    "        \n",
    "\n",
    "    def submit_order(self,target):\n",
    "            \n",
    "        delta = target - self.position      \n",
    "        if delta == 0:\n",
    "            return\n",
    "\n",
    "        if delta > 0:\n",
    "            buy_quality = delta\n",
    "            \n",
    "            print(f'Buying {buy_quality} {self.symbol} shares')\n",
    "            \n",
    "            self.order = self.api.submit_order(\n",
    "                    symbol=self.symbol,\n",
    "                    qty = buy_quality,\n",
    "                    type='market',\n",
    "                    side='buy',\n",
    "                    time_in_force='day'\n",
    "            )\n",
    "\n",
    "        elif delta < 0:\n",
    "            sell_quantity = abs(delta)\n",
    "            print(f'Selling {sell_quantity} {self.symbol} shares')\n",
    "            \n",
    "            self.order = self.api.submit_order(\n",
    "                    symbol=self.symbol,\n",
    "                    qty = sell_quality,\n",
    "                    type='market',\n",
    "                    side='sell',\n",
    "                    time_in_force='day'\n",
    "            )\n",
    "\n"
   ]
  },
  {
   "cell_type": "code",
   "execution_count": 52,
   "id": "49219404-2988-43e7-90f9-20455c266529",
   "metadata": {},
   "outputs": [
    {
     "name": "stdout",
     "output_type": "stream",
     "text": [
      "ACTIVE\n",
      "Current holding 0 AAPL stocks\n"
     ]
    }
   ],
   "source": [
    "aapl = Alpaca_Trade(API_KEY, SECRET_KEY,'AAPL')"
   ]
  },
  {
   "cell_type": "code",
   "execution_count": 53,
   "id": "24e23ae9-2815-4dc0-9ea8-e1569654982b",
   "metadata": {},
   "outputs": [
    {
     "name": "stdout",
     "output_type": "stream",
     "text": [
      "Buying 25 AAPL shares\n"
     ]
    }
   ],
   "source": [
    "aapl.submit_order(25)"
   ]
  },
  {
   "cell_type": "code",
   "execution_count": null,
   "id": "eb7c2c4c-f144-48a1-aa0b-07a63feff16d",
   "metadata": {},
   "outputs": [],
   "source": []
  }
 ],
 "metadata": {
  "kernelspec": {
   "display_name": "Python 3 (ipykernel)",
   "language": "python",
   "name": "python3"
  },
  "language_info": {
   "codemirror_mode": {
    "name": "ipython",
    "version": 3
   },
   "file_extension": ".py",
   "mimetype": "text/x-python",
   "name": "python",
   "nbconvert_exporter": "python",
   "pygments_lexer": "ipython3",
   "version": "3.7.11"
  }
 },
 "nbformat": 4,
 "nbformat_minor": 5
}
