{
 "cells": [
  {
   "cell_type": "markdown",
   "id": "6f523f29-9374-4ddc-ad12-9121d3aa2eb7",
   "metadata": {},
   "source": [
    "## Datetime"
   ]
  },
  {
   "cell_type": "code",
   "execution_count": 75,
   "id": "6e96156e-cdbb-4666-b140-ea1e1a6d6416",
   "metadata": {},
   "outputs": [],
   "source": [
    "import datetime"
   ]
  },
  {
   "cell_type": "code",
   "execution_count": 76,
   "id": "2a5ec2f5-2f8f-490d-b809-dec11edbb329",
   "metadata": {},
   "outputs": [
    {
     "data": {
      "text/plain": [
       "['MAXYEAR',\n",
       " 'MINYEAR',\n",
       " '__builtins__',\n",
       " '__cached__',\n",
       " '__doc__',\n",
       " '__file__',\n",
       " '__loader__',\n",
       " '__name__',\n",
       " '__package__',\n",
       " '__spec__',\n",
       " 'date',\n",
       " 'datetime',\n",
       " 'datetime_CAPI',\n",
       " 'sys',\n",
       " 'time',\n",
       " 'timedelta',\n",
       " 'timezone',\n",
       " 'tzinfo']"
      ]
     },
     "execution_count": 76,
     "metadata": {},
     "output_type": "execute_result"
    }
   ],
   "source": [
    "# Listing all functions in datetime module\n",
    "dir(datetime)"
   ]
  },
  {
   "cell_type": "code",
   "execution_count": 77,
   "id": "12caea37-0c35-4754-b84b-6e62a7dd5b97",
   "metadata": {},
   "outputs": [],
   "source": [
    "from datetime import datetime"
   ]
  },
  {
   "cell_type": "code",
   "execution_count": 78,
   "id": "06e46113-d48d-4b32-8fab-df8570b07255",
   "metadata": {},
   "outputs": [
    {
     "data": {
      "text/plain": [
       "['__add__',\n",
       " '__class__',\n",
       " '__delattr__',\n",
       " '__dir__',\n",
       " '__doc__',\n",
       " '__eq__',\n",
       " '__format__',\n",
       " '__ge__',\n",
       " '__getattribute__',\n",
       " '__gt__',\n",
       " '__hash__',\n",
       " '__init__',\n",
       " '__init_subclass__',\n",
       " '__le__',\n",
       " '__lt__',\n",
       " '__ne__',\n",
       " '__new__',\n",
       " '__radd__',\n",
       " '__reduce__',\n",
       " '__reduce_ex__',\n",
       " '__repr__',\n",
       " '__rsub__',\n",
       " '__setattr__',\n",
       " '__sizeof__',\n",
       " '__str__',\n",
       " '__sub__',\n",
       " '__subclasshook__',\n",
       " 'astimezone',\n",
       " 'combine',\n",
       " 'ctime',\n",
       " 'date',\n",
       " 'day',\n",
       " 'dst',\n",
       " 'fold',\n",
       " 'fromisoformat',\n",
       " 'fromordinal',\n",
       " 'fromtimestamp',\n",
       " 'hour',\n",
       " 'isocalendar',\n",
       " 'isoformat',\n",
       " 'isoweekday',\n",
       " 'max',\n",
       " 'microsecond',\n",
       " 'min',\n",
       " 'minute',\n",
       " 'month',\n",
       " 'now',\n",
       " 'replace',\n",
       " 'resolution',\n",
       " 'second',\n",
       " 'strftime',\n",
       " 'strptime',\n",
       " 'time',\n",
       " 'timestamp',\n",
       " 'timetuple',\n",
       " 'timetz',\n",
       " 'today',\n",
       " 'toordinal',\n",
       " 'tzinfo',\n",
       " 'tzname',\n",
       " 'utcfromtimestamp',\n",
       " 'utcnow',\n",
       " 'utcoffset',\n",
       " 'utctimetuple',\n",
       " 'weekday',\n",
       " 'year']"
      ]
     },
     "execution_count": 78,
     "metadata": {},
     "output_type": "execute_result"
    }
   ],
   "source": [
    "dir(datetime)"
   ]
  },
  {
   "cell_type": "code",
   "execution_count": 79,
   "id": "ca86b800-6369-4823-8464-156892621449",
   "metadata": {},
   "outputs": [
    {
     "name": "stdout",
     "output_type": "stream",
     "text": [
      "Current date and time is 2022-07-30 17:03:50.870812\n"
     ]
    }
   ],
   "source": [
    "today = datetime.now()\n",
    " \n",
    "print(\"Current date and time is\", today)"
   ]
  },
  {
   "cell_type": "code",
   "execution_count": 80,
   "id": "ead5fcaf-e8f2-4adf-a3f6-4b1d0d4cf3f6",
   "metadata": {},
   "outputs": [
    {
     "name": "stdout",
     "output_type": "stream",
     "text": [
      "2022-07-30 00:00:00\n"
     ]
    }
   ],
   "source": [
    "a = datetime(2022, 7, 30)\n",
    "print(a)"
   ]
  },
  {
   "cell_type": "code",
   "execution_count": 81,
   "id": "bcf42123-4820-4f9c-afed-e3db4a1d6e7c",
   "metadata": {},
   "outputs": [
    {
     "name": "stdout",
     "output_type": "stream",
     "text": [
      "year = 2022\n",
      "month = 7\n",
      "day = 30\n",
      "hour = 16\n",
      "minute = 31\n",
      "second = 48\n",
      "timestamp = 1659169908.0\n"
     ]
    }
   ],
   "source": [
    "a = datetime(2022, 7, 30, 16, 31, 48)\n",
    " \n",
    "print(\"year =\", a.year)\n",
    "print(\"month =\", a.month)\n",
    "print(\"day =\", a.day)\n",
    "print(\"hour =\", a.hour)\n",
    "print(\"minute =\", a.minute)\n",
    "print(\"second =\", a.second)\n",
    "print(\"timestamp =\", a.timestamp())"
   ]
  },
  {
   "cell_type": "code",
   "execution_count": 82,
   "id": "2d6f5844-efb9-4264-99d9-9937e8757528",
   "metadata": {},
   "outputs": [],
   "source": [
    "# Defining start and end time\n",
    "start_time = datetime(2022, 5, 30, 9, 15)\n",
    "end_time = datetime(2022, 7, 30, 9, 45)"
   ]
  },
  {
   "cell_type": "code",
   "execution_count": 83,
   "id": "44e76d41-a57b-4d9c-bd23-5e566dee8a1e",
   "metadata": {},
   "outputs": [
    {
     "name": "stdout",
     "output_type": "stream",
     "text": [
      "61 days, 0:30:00\n"
     ]
    }
   ],
   "source": [
    "# Difference between two times in seconds\n",
    "diff = end_time - start_time\n",
    "print(diff)"
   ]
  },
  {
   "cell_type": "code",
   "execution_count": 84,
   "id": "82fd0846-f673-40e8-ad68-ad7a019751bc",
   "metadata": {},
   "outputs": [
    {
     "name": "stdout",
     "output_type": "stream",
     "text": [
      "today date  2022-07-30 17:05:16.513845\n",
      "future date  2024-07-29 17:05:16.513845\n"
     ]
    }
   ],
   "source": [
    "from datetime import timedelta\n",
    " \n",
    "# Using current time\n",
    "today = datetime.now()\n",
    " \n",
    "# printing initial_date\n",
    "print(\"today date \", today)\n",
    " \n",
    "# Calculating future dates for two years\n",
    "future = today + timedelta(days=730)\n",
    "print(\"future date \", future)\n"
   ]
  },
  {
   "cell_type": "markdown",
   "id": "a11571da-81ac-406b-b7da-9d2fe76925c0",
   "metadata": {},
   "source": [
    "## Date"
   ]
  },
  {
   "cell_type": "code",
   "execution_count": 85,
   "id": "a5afa55a-bbb6-45e8-936f-1bb288615114",
   "metadata": {},
   "outputs": [],
   "source": [
    "from datetime import date"
   ]
  },
  {
   "cell_type": "code",
   "execution_count": 86,
   "id": "fd32fefa-2020-486e-b4f1-7d32013ac020",
   "metadata": {},
   "outputs": [
    {
     "name": "stdout",
     "output_type": "stream",
     "text": [
      "Today's date is 2022-07-30\n",
      "Current year: 2022\n",
      "Current month: 7\n",
      "Current day: 30\n"
     ]
    }
   ],
   "source": [
    "today = date.today()\n",
    " \n",
    "print(\"Today's date is\", today)\n",
    "print(\"Current year:\", today.year)\n",
    "print(\"Current month:\", today.month)\n",
    "print(\"Current day:\", today.day)"
   ]
  },
  {
   "cell_type": "markdown",
   "id": "066d1c8f-7db0-49db-ae92-69804297c0f1",
   "metadata": {},
   "source": [
    "## Time"
   ]
  },
  {
   "cell_type": "code",
   "execution_count": 87,
   "id": "cc02c6b6-6856-42a3-be3d-5cceb19d633a",
   "metadata": {},
   "outputs": [],
   "source": [
    "from datetime import time"
   ]
  },
  {
   "cell_type": "code",
   "execution_count": 88,
   "id": "30412626-0927-4ec6-b875-bd6801bcf55a",
   "metadata": {},
   "outputs": [
    {
     "name": "stdout",
     "output_type": "stream",
     "text": [
      "Entered time 11:34:56\n"
     ]
    }
   ],
   "source": [
    "Time = time(11, 34, 56)\n",
    " \n",
    "print(\"Entered time\", Time )"
   ]
  },
  {
   "cell_type": "code",
   "execution_count": 89,
   "id": "9c25cca5-5f0d-4df3-b8b5-61ff50160a33",
   "metadata": {},
   "outputs": [
    {
     "name": "stdout",
     "output_type": "stream",
     "text": [
      "hour = 11\n",
      "minute = 34\n",
      "second = 56\n",
      "microsecond = 0\n"
     ]
    }
   ],
   "source": [
    "print(\"hour =\", Time.hour)\n",
    "print(\"minute =\", Time.minute)\n",
    "print(\"second =\", Time.second)\n",
    "print(\"microsecond =\", Time.microsecond)"
   ]
  },
  {
   "cell_type": "markdown",
   "id": "6aa4a374-0f16-4aa3-82c5-8199ff3d12da",
   "metadata": {},
   "source": [
    "## Timezone"
   ]
  },
  {
   "cell_type": "code",
   "execution_count": 90,
   "id": "1a35f516-95ca-4ab0-9218-ee9168f8363a",
   "metadata": {},
   "outputs": [],
   "source": [
    "from pytz import timezone"
   ]
  },
  {
   "cell_type": "code",
   "execution_count": 91,
   "id": "6c4540d4-8b51-4649-b7c2-b834c10f5821",
   "metadata": {},
   "outputs": [
    {
     "name": "stdout",
     "output_type": "stream",
     "text": [
      "2022-07-30 17:06:20.373346\n"
     ]
    }
   ],
   "source": [
    "now = datetime.now()\n",
    "print(now)"
   ]
  },
  {
   "cell_type": "code",
   "execution_count": 92,
   "id": "ac8d03dd-43ea-4879-86b0-df49030201eb",
   "metadata": {},
   "outputs": [
    {
     "name": "stdout",
     "output_type": "stream",
     "text": [
      "2022-07-30 17:06:37.387236+08:00\n"
     ]
    }
   ],
   "source": [
    "now_utc = datetime.now(timezone('Asia/Singapore'))\n",
    "print(now_utc)"
   ]
  },
  {
   "cell_type": "code",
   "execution_count": 93,
   "id": "cc963cfb-b2c5-4c40-b324-2ceba4d62011",
   "metadata": {},
   "outputs": [
    {
     "name": "stdout",
     "output_type": "stream",
     "text": [
      "2022-07-30 05:06:51.569948-04:00\n"
     ]
    }
   ],
   "source": [
    "now_utc = datetime.now(timezone('America/New_York'))\n",
    "print(now_utc)"
   ]
  },
  {
   "cell_type": "markdown",
   "id": "61c225a9-ab50-4c5f-8d12-60eb12200903",
   "metadata": {},
   "source": [
    "## OHLC Data"
   ]
  },
  {
   "cell_type": "code",
   "execution_count": 94,
   "id": "7cd0f27e-18a2-495d-81ff-232f6e5f5cbc",
   "metadata": {},
   "outputs": [],
   "source": [
    "import yfinance as yf\n",
    "from datetime import datetime"
   ]
  },
  {
   "cell_type": "code",
   "execution_count": 95,
   "id": "c4b236e4-08f0-4740-b587-eda3d67a5aa5",
   "metadata": {},
   "outputs": [],
   "source": [
    "# Defining start and end time\n",
    "start = datetime(2020, 1, 1)\n",
    "end = datetime(2022, 7, 30)"
   ]
  },
  {
   "cell_type": "code",
   "execution_count": 96,
   "id": "25e09ee1-59c2-4dc0-82de-d21bd5f319a7",
   "metadata": {},
   "outputs": [
    {
     "name": "stdout",
     "output_type": "stream",
     "text": [
      "[*********************100%***********************]  1 of 1 completed\n"
     ]
    },
    {
     "data": {
      "text/html": [
       "<div>\n",
       "<style scoped>\n",
       "    .dataframe tbody tr th:only-of-type {\n",
       "        vertical-align: middle;\n",
       "    }\n",
       "\n",
       "    .dataframe tbody tr th {\n",
       "        vertical-align: top;\n",
       "    }\n",
       "\n",
       "    .dataframe thead th {\n",
       "        text-align: right;\n",
       "    }\n",
       "</style>\n",
       "<table border=\"1\" class=\"dataframe\">\n",
       "  <thead>\n",
       "    <tr style=\"text-align: right;\">\n",
       "      <th></th>\n",
       "      <th>Open</th>\n",
       "      <th>High</th>\n",
       "      <th>Low</th>\n",
       "      <th>Close</th>\n",
       "      <th>Adj Close</th>\n",
       "      <th>Volume</th>\n",
       "    </tr>\n",
       "    <tr>\n",
       "      <th>Date</th>\n",
       "      <th></th>\n",
       "      <th></th>\n",
       "      <th></th>\n",
       "      <th></th>\n",
       "      <th></th>\n",
       "      <th></th>\n",
       "    </tr>\n",
       "  </thead>\n",
       "  <tbody>\n",
       "    <tr>\n",
       "      <th>2019-12-31</th>\n",
       "      <td>156.770004</td>\n",
       "      <td>157.770004</td>\n",
       "      <td>156.449997</td>\n",
       "      <td>157.699997</td>\n",
       "      <td>154.071564</td>\n",
       "      <td>18369400</td>\n",
       "    </tr>\n",
       "    <tr>\n",
       "      <th>2020-01-02</th>\n",
       "      <td>158.779999</td>\n",
       "      <td>160.729996</td>\n",
       "      <td>158.330002</td>\n",
       "      <td>160.619995</td>\n",
       "      <td>156.924377</td>\n",
       "      <td>22622100</td>\n",
       "    </tr>\n",
       "    <tr>\n",
       "      <th>2020-01-03</th>\n",
       "      <td>158.320007</td>\n",
       "      <td>159.949997</td>\n",
       "      <td>158.059998</td>\n",
       "      <td>158.619995</td>\n",
       "      <td>154.970444</td>\n",
       "      <td>21116200</td>\n",
       "    </tr>\n",
       "    <tr>\n",
       "      <th>2020-01-06</th>\n",
       "      <td>157.080002</td>\n",
       "      <td>159.100006</td>\n",
       "      <td>156.509995</td>\n",
       "      <td>159.029999</td>\n",
       "      <td>155.370987</td>\n",
       "      <td>20813700</td>\n",
       "    </tr>\n",
       "    <tr>\n",
       "      <th>2020-01-07</th>\n",
       "      <td>159.320007</td>\n",
       "      <td>159.669998</td>\n",
       "      <td>157.320007</td>\n",
       "      <td>157.580002</td>\n",
       "      <td>153.954361</td>\n",
       "      <td>21634100</td>\n",
       "    </tr>\n",
       "    <tr>\n",
       "      <th>...</th>\n",
       "      <td>...</td>\n",
       "      <td>...</td>\n",
       "      <td>...</td>\n",
       "      <td>...</td>\n",
       "      <td>...</td>\n",
       "      <td>...</td>\n",
       "    </tr>\n",
       "    <tr>\n",
       "      <th>2022-07-25</th>\n",
       "      <td>261.000000</td>\n",
       "      <td>261.500000</td>\n",
       "      <td>256.809998</td>\n",
       "      <td>258.829987</td>\n",
       "      <td>258.829987</td>\n",
       "      <td>21056000</td>\n",
       "    </tr>\n",
       "    <tr>\n",
       "      <th>2022-07-26</th>\n",
       "      <td>259.859985</td>\n",
       "      <td>259.880005</td>\n",
       "      <td>249.570007</td>\n",
       "      <td>251.899994</td>\n",
       "      <td>251.899994</td>\n",
       "      <td>39348000</td>\n",
       "    </tr>\n",
       "    <tr>\n",
       "      <th>2022-07-27</th>\n",
       "      <td>261.160004</td>\n",
       "      <td>270.049988</td>\n",
       "      <td>258.850006</td>\n",
       "      <td>268.739990</td>\n",
       "      <td>268.739990</td>\n",
       "      <td>45994000</td>\n",
       "    </tr>\n",
       "    <tr>\n",
       "      <th>2022-07-28</th>\n",
       "      <td>269.750000</td>\n",
       "      <td>277.839996</td>\n",
       "      <td>267.869995</td>\n",
       "      <td>276.410004</td>\n",
       "      <td>276.410004</td>\n",
       "      <td>33459300</td>\n",
       "    </tr>\n",
       "    <tr>\n",
       "      <th>2022-07-29</th>\n",
       "      <td>277.700012</td>\n",
       "      <td>282.000000</td>\n",
       "      <td>276.630005</td>\n",
       "      <td>280.739990</td>\n",
       "      <td>280.739990</td>\n",
       "      <td>32129400</td>\n",
       "    </tr>\n",
       "  </tbody>\n",
       "</table>\n",
       "<p>650 rows × 6 columns</p>\n",
       "</div>"
      ],
      "text/plain": [
       "                  Open        High         Low       Close   Adj Close  \\\n",
       "Date                                                                     \n",
       "2019-12-31  156.770004  157.770004  156.449997  157.699997  154.071564   \n",
       "2020-01-02  158.779999  160.729996  158.330002  160.619995  156.924377   \n",
       "2020-01-03  158.320007  159.949997  158.059998  158.619995  154.970444   \n",
       "2020-01-06  157.080002  159.100006  156.509995  159.029999  155.370987   \n",
       "2020-01-07  159.320007  159.669998  157.320007  157.580002  153.954361   \n",
       "...                ...         ...         ...         ...         ...   \n",
       "2022-07-25  261.000000  261.500000  256.809998  258.829987  258.829987   \n",
       "2022-07-26  259.859985  259.880005  249.570007  251.899994  251.899994   \n",
       "2022-07-27  261.160004  270.049988  258.850006  268.739990  268.739990   \n",
       "2022-07-28  269.750000  277.839996  267.869995  276.410004  276.410004   \n",
       "2022-07-29  277.700012  282.000000  276.630005  280.739990  280.739990   \n",
       "\n",
       "              Volume  \n",
       "Date                  \n",
       "2019-12-31  18369400  \n",
       "2020-01-02  22622100  \n",
       "2020-01-03  21116200  \n",
       "2020-01-06  20813700  \n",
       "2020-01-07  21634100  \n",
       "...              ...  \n",
       "2022-07-25  21056000  \n",
       "2022-07-26  39348000  \n",
       "2022-07-27  45994000  \n",
       "2022-07-28  33459300  \n",
       "2022-07-29  32129400  \n",
       "\n",
       "[650 rows x 6 columns]"
      ]
     },
     "execution_count": 96,
     "metadata": {},
     "output_type": "execute_result"
    }
   ],
   "source": [
    "data = yf.download('MSFT',start=start,end=end)\n",
    "data"
   ]
  },
  {
   "cell_type": "code",
   "execution_count": null,
   "id": "c70e5479-2940-4cfc-b9a0-52130b36b6bb",
   "metadata": {},
   "outputs": [],
   "source": []
  }
 ],
 "metadata": {
  "kernelspec": {
   "display_name": "Python 3 (ipykernel)",
   "language": "python",
   "name": "python3"
  },
  "language_info": {
   "codemirror_mode": {
    "name": "ipython",
    "version": 3
   },
   "file_extension": ".py",
   "mimetype": "text/x-python",
   "name": "python",
   "nbconvert_exporter": "python",
   "pygments_lexer": "ipython3",
   "version": "3.7.11"
  }
 },
 "nbformat": 4,
 "nbformat_minor": 5
}
