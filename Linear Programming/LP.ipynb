{
  "nbformat": 4,
  "nbformat_minor": 0,
  "metadata": {
    "colab": {
      "name": "LP",
      "provenance": []
    },
    "kernelspec": {
      "name": "python3",
      "display_name": "Python 3"
    },
    "language_info": {
      "name": "python"
    }
  },
  "cells": [
    {
      "cell_type": "code",
      "execution_count": 8,
      "metadata": {
        "id": "pqkX-jS8TBLr"
      },
      "outputs": [],
      "source": [
        "from scipy.optimize import linprog #import linear programming tool\n"
      ]
    },
    {
      "cell_type": "code",
      "source": [
        "# Maximise Z = 180x + 200y\n",
        "# Minimise -Z = -180x - 200y\n",
        "# Constriants: \n",
        "# 5x + 4y <= 80\n",
        "# 10x + 20y <= 200"
      ],
      "metadata": {
        "id": "6iar8O3LddU_"
      },
      "execution_count": null,
      "outputs": []
    },
    {
      "cell_type": "code",
      "source": [
        "obj = [-180, -200]\n",
        "lhs = [[5,4],[10,20]]\n",
        "rhs = [80,200]\n"
      ],
      "metadata": {
        "id": "NLDFEzHeWQVG"
      },
      "execution_count": 3,
      "outputs": []
    },
    {
      "cell_type": "code",
      "source": [
        "bnd = [(0,float('inf')),(0,float('inf'))] #default for linprog() is 0 to infinity"
      ],
      "metadata": {
        "id": "S9_BItnzXgb7"
      },
      "execution_count": 4,
      "outputs": []
    },
    {
      "cell_type": "code",
      "source": [
        "optimisation = linprog(c = obj, A_ub= lhs, b_ub = rhs, bounds = bnd, method = 'simplex')\n"
      ],
      "metadata": {
        "id": "IuqS7UJhYGLs"
      },
      "execution_count": 9,
      "outputs": []
    },
    {
      "cell_type": "code",
      "source": [
        "optimisation"
      ],
      "metadata": {
        "colab": {
          "base_uri": "https://localhost:8080/"
        },
        "id": "vc2Xhq-HYiv_",
        "outputId": "f498c56b-a518-48a1-b6b3-de39375e0563"
      },
      "execution_count": 10,
      "outputs": [
        {
          "output_type": "execute_result",
          "data": {
            "text/plain": [
              "     con: array([], dtype=float64)\n",
              "     fun: -3066.6666666666665\n",
              " message: 'Optimization terminated successfully.'\n",
              "     nit: 2\n",
              "   slack: array([0., 0.])\n",
              "  status: 0\n",
              " success: True\n",
              "       x: array([13.33333333,  3.33333333])"
            ]
          },
          "metadata": {},
          "execution_count": 10
        }
      ]
    }
  ]
}