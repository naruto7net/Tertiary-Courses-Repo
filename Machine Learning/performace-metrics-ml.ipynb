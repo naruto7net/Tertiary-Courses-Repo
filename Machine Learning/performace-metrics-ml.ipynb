{
 "cells": [
  {
   "cell_type": "markdown",
   "metadata": {
    "id": "wIjyFU0Ez18k"
   },
   "source": [
    "## Import Data"
   ]
  },
  {
   "cell_type": "code",
   "execution_count": 1,
   "metadata": {
    "id": "XCRjaOg5rdyS"
   },
   "outputs": [],
   "source": [
    "import numpy as np\n",
    "import pandas as pd\n",
    "import matplotlib.pyplot as plt\n",
    "\n",
    "np.random.seed(0)\n"
   ]
  },
  {
   "cell_type": "code",
   "execution_count": 2,
   "metadata": {
    "colab": {
     "base_uri": "https://localhost:8080/",
     "height": 236
    },
    "id": "5oXwNc4yre4W",
    "outputId": "39e757dd-9493-41dc-d711-3214e13f5339"
   },
   "outputs": [
    {
     "data": {
      "text/html": [
       "<div>\n",
       "<style scoped>\n",
       "    .dataframe tbody tr th:only-of-type {\n",
       "        vertical-align: middle;\n",
       "    }\n",
       "\n",
       "    .dataframe tbody tr th {\n",
       "        vertical-align: top;\n",
       "    }\n",
       "\n",
       "    .dataframe thead th {\n",
       "        text-align: right;\n",
       "    }\n",
       "</style>\n",
       "<table border=\"1\" class=\"dataframe\">\n",
       "  <thead>\n",
       "    <tr style=\"text-align: right;\">\n",
       "      <th></th>\n",
       "      <th>Time</th>\n",
       "      <th>V1</th>\n",
       "      <th>V2</th>\n",
       "      <th>V3</th>\n",
       "      <th>V4</th>\n",
       "      <th>V5</th>\n",
       "      <th>V6</th>\n",
       "      <th>V7</th>\n",
       "      <th>V8</th>\n",
       "      <th>V9</th>\n",
       "      <th>...</th>\n",
       "      <th>V21</th>\n",
       "      <th>V22</th>\n",
       "      <th>V23</th>\n",
       "      <th>V24</th>\n",
       "      <th>V25</th>\n",
       "      <th>V26</th>\n",
       "      <th>V27</th>\n",
       "      <th>V28</th>\n",
       "      <th>Amount</th>\n",
       "      <th>Class</th>\n",
       "    </tr>\n",
       "  </thead>\n",
       "  <tbody>\n",
       "    <tr>\n",
       "      <th>0</th>\n",
       "      <td>0.0</td>\n",
       "      <td>-1.359807</td>\n",
       "      <td>-0.072781</td>\n",
       "      <td>2.536347</td>\n",
       "      <td>1.378155</td>\n",
       "      <td>-0.338321</td>\n",
       "      <td>0.462388</td>\n",
       "      <td>0.239599</td>\n",
       "      <td>0.098698</td>\n",
       "      <td>0.363787</td>\n",
       "      <td>...</td>\n",
       "      <td>-0.018307</td>\n",
       "      <td>0.277838</td>\n",
       "      <td>-0.110474</td>\n",
       "      <td>0.066928</td>\n",
       "      <td>0.128539</td>\n",
       "      <td>-0.189115</td>\n",
       "      <td>0.133558</td>\n",
       "      <td>-0.021053</td>\n",
       "      <td>149.62</td>\n",
       "      <td>0</td>\n",
       "    </tr>\n",
       "    <tr>\n",
       "      <th>1</th>\n",
       "      <td>0.0</td>\n",
       "      <td>1.191857</td>\n",
       "      <td>0.266151</td>\n",
       "      <td>0.166480</td>\n",
       "      <td>0.448154</td>\n",
       "      <td>0.060018</td>\n",
       "      <td>-0.082361</td>\n",
       "      <td>-0.078803</td>\n",
       "      <td>0.085102</td>\n",
       "      <td>-0.255425</td>\n",
       "      <td>...</td>\n",
       "      <td>-0.225775</td>\n",
       "      <td>-0.638672</td>\n",
       "      <td>0.101288</td>\n",
       "      <td>-0.339846</td>\n",
       "      <td>0.167170</td>\n",
       "      <td>0.125895</td>\n",
       "      <td>-0.008983</td>\n",
       "      <td>0.014724</td>\n",
       "      <td>2.69</td>\n",
       "      <td>0</td>\n",
       "    </tr>\n",
       "    <tr>\n",
       "      <th>2</th>\n",
       "      <td>1.0</td>\n",
       "      <td>-1.358354</td>\n",
       "      <td>-1.340163</td>\n",
       "      <td>1.773209</td>\n",
       "      <td>0.379780</td>\n",
       "      <td>-0.503198</td>\n",
       "      <td>1.800499</td>\n",
       "      <td>0.791461</td>\n",
       "      <td>0.247676</td>\n",
       "      <td>-1.514654</td>\n",
       "      <td>...</td>\n",
       "      <td>0.247998</td>\n",
       "      <td>0.771679</td>\n",
       "      <td>0.909412</td>\n",
       "      <td>-0.689281</td>\n",
       "      <td>-0.327642</td>\n",
       "      <td>-0.139097</td>\n",
       "      <td>-0.055353</td>\n",
       "      <td>-0.059752</td>\n",
       "      <td>378.66</td>\n",
       "      <td>0</td>\n",
       "    </tr>\n",
       "    <tr>\n",
       "      <th>3</th>\n",
       "      <td>1.0</td>\n",
       "      <td>-0.966272</td>\n",
       "      <td>-0.185226</td>\n",
       "      <td>1.792993</td>\n",
       "      <td>-0.863291</td>\n",
       "      <td>-0.010309</td>\n",
       "      <td>1.247203</td>\n",
       "      <td>0.237609</td>\n",
       "      <td>0.377436</td>\n",
       "      <td>-1.387024</td>\n",
       "      <td>...</td>\n",
       "      <td>-0.108300</td>\n",
       "      <td>0.005274</td>\n",
       "      <td>-0.190321</td>\n",
       "      <td>-1.175575</td>\n",
       "      <td>0.647376</td>\n",
       "      <td>-0.221929</td>\n",
       "      <td>0.062723</td>\n",
       "      <td>0.061458</td>\n",
       "      <td>123.50</td>\n",
       "      <td>0</td>\n",
       "    </tr>\n",
       "    <tr>\n",
       "      <th>4</th>\n",
       "      <td>2.0</td>\n",
       "      <td>-1.158233</td>\n",
       "      <td>0.877737</td>\n",
       "      <td>1.548718</td>\n",
       "      <td>0.403034</td>\n",
       "      <td>-0.407193</td>\n",
       "      <td>0.095921</td>\n",
       "      <td>0.592941</td>\n",
       "      <td>-0.270533</td>\n",
       "      <td>0.817739</td>\n",
       "      <td>...</td>\n",
       "      <td>-0.009431</td>\n",
       "      <td>0.798278</td>\n",
       "      <td>-0.137458</td>\n",
       "      <td>0.141267</td>\n",
       "      <td>-0.206010</td>\n",
       "      <td>0.502292</td>\n",
       "      <td>0.219422</td>\n",
       "      <td>0.215153</td>\n",
       "      <td>69.99</td>\n",
       "      <td>0</td>\n",
       "    </tr>\n",
       "  </tbody>\n",
       "</table>\n",
       "<p>5 rows × 31 columns</p>\n",
       "</div>"
      ],
      "text/plain": [
       "   Time        V1        V2        V3        V4        V5        V6        V7  \\\n",
       "0   0.0 -1.359807 -0.072781  2.536347  1.378155 -0.338321  0.462388  0.239599   \n",
       "1   0.0  1.191857  0.266151  0.166480  0.448154  0.060018 -0.082361 -0.078803   \n",
       "2   1.0 -1.358354 -1.340163  1.773209  0.379780 -0.503198  1.800499  0.791461   \n",
       "3   1.0 -0.966272 -0.185226  1.792993 -0.863291 -0.010309  1.247203  0.237609   \n",
       "4   2.0 -1.158233  0.877737  1.548718  0.403034 -0.407193  0.095921  0.592941   \n",
       "\n",
       "         V8        V9  ...       V21       V22       V23       V24       V25  \\\n",
       "0  0.098698  0.363787  ... -0.018307  0.277838 -0.110474  0.066928  0.128539   \n",
       "1  0.085102 -0.255425  ... -0.225775 -0.638672  0.101288 -0.339846  0.167170   \n",
       "2  0.247676 -1.514654  ...  0.247998  0.771679  0.909412 -0.689281 -0.327642   \n",
       "3  0.377436 -1.387024  ... -0.108300  0.005274 -0.190321 -1.175575  0.647376   \n",
       "4 -0.270533  0.817739  ... -0.009431  0.798278 -0.137458  0.141267 -0.206010   \n",
       "\n",
       "        V26       V27       V28  Amount  Class  \n",
       "0 -0.189115  0.133558 -0.021053  149.62      0  \n",
       "1  0.125895 -0.008983  0.014724    2.69      0  \n",
       "2 -0.139097 -0.055353 -0.059752  378.66      0  \n",
       "3 -0.221929  0.062723  0.061458  123.50      0  \n",
       "4  0.502292  0.219422  0.215153   69.99      0  \n",
       "\n",
       "[5 rows x 31 columns]"
      ]
     },
     "execution_count": 2,
     "metadata": {},
     "output_type": "execute_result"
    }
   ],
   "source": [
    "df = pd.read_csv('creditcard.csv')\n",
    "df.head()"
   ]
  },
  {
   "cell_type": "code",
   "execution_count": 4,
   "metadata": {
    "colab": {
     "base_uri": "https://localhost:8080/"
    },
    "id": "rurkqR_2r74K",
    "outputId": "28627040-29e0-404b-a6ca-b07f96083fd2"
   },
   "outputs": [
    {
     "data": {
      "text/plain": [
       "Index(['Time', 'V1', 'V2', 'V3', 'V4', 'V5', 'V6', 'V7', 'V8', 'V9', 'V10',\n",
       "       'V11', 'V12', 'V13', 'V14', 'V15', 'V16', 'V17', 'V18', 'V19', 'V20',\n",
       "       'V21', 'V22', 'V23', 'V24', 'V25', 'V26', 'V27', 'V28', 'Amount',\n",
       "       'Class'],\n",
       "      dtype='object')"
      ]
     },
     "execution_count": 4,
     "metadata": {},
     "output_type": "execute_result"
    }
   ],
   "source": [
    "df.columns"
   ]
  },
  {
   "cell_type": "code",
   "execution_count": 5,
   "metadata": {
    "colab": {
     "base_uri": "https://localhost:8080/"
    },
    "id": "POhrUWeXr_h-",
    "outputId": "5d0153a2-4d6d-4d51-ec9e-116bf82feb46"
   },
   "outputs": [
    {
     "data": {
      "text/plain": [
       "(284807, 31)"
      ]
     },
     "execution_count": 5,
     "metadata": {},
     "output_type": "execute_result"
    }
   ],
   "source": [
    "df.shape"
   ]
  },
  {
   "cell_type": "code",
   "execution_count": 6,
   "metadata": {
    "colab": {
     "base_uri": "https://localhost:8080/",
     "height": 339
    },
    "id": "0C0sFB21sBpf",
    "outputId": "5e3ca33e-5a2d-49e2-90bd-29e569d289d0"
   },
   "outputs": [
    {
     "data": {
      "text/plain": [
       "Text(0, 0.5, 'Frequency')"
      ]
     },
     "execution_count": 6,
     "metadata": {},
     "output_type": "execute_result"
    },
    {
     "data": {
      "image/png": "[encoded data removed]",
      "text/plain": [
       "<Figure size 432x288 with 1 Axes>"
      ]
     },
     "metadata": {
      "needs_background": "light"
     },
     "output_type": "display_data"
    }
   ],
   "source": [
    "count_classes = pd.value_counts(df['Class'], sort = False)\n",
    "count_classes.plot (kind='bar')\n",
    "LABELS = [\"Normal\", \"Fraud\"]\n",
    "plt.xticks(range(2), LABELS) \n",
    "plt.title (\"Transaction Class Distribution\")\n",
    "plt.xlabel (\"Class\")\n",
    "plt.ylabel (\"Frequency\")"
   ]
  },
  {
   "cell_type": "code",
   "execution_count": 7,
   "metadata": {
    "id": "LJa92cppydQh"
   },
   "outputs": [],
   "source": [
    "df = df.drop (['Time', 'Amount'], axis = 1);"
   ]
  },
  {
   "cell_type": "code",
   "execution_count": 8,
   "metadata": {
    "colab": {
     "base_uri": "https://localhost:8080/"
    },
    "id": "MEwPUNrlyp9j",
    "outputId": "e40b2ff2-25c3-43b7-fd83-1b57e97d9e8c"
   },
   "outputs": [
    {
     "data": {
      "text/plain": [
       "(284807, 29)"
      ]
     },
     "execution_count": 8,
     "metadata": {},
     "output_type": "execute_result"
    }
   ],
   "source": [
    "df.shape"
   ]
  },
  {
   "cell_type": "code",
   "execution_count": 9,
   "metadata": {
    "colab": {
     "base_uri": "https://localhost:8080/"
    },
    "id": "I6Bcl3OOsGvZ",
    "outputId": "609be922-1f46-4402-c785-b10a1aa1a45e"
   },
   "outputs": [
    {
     "data": {
      "text/plain": [
       "V1       0\n",
       "V16      0\n",
       "V28      0\n",
       "V27      0\n",
       "V26      0\n",
       "V25      0\n",
       "V24      0\n",
       "V23      0\n",
       "V22      0\n",
       "V21      0\n",
       "V20      0\n",
       "V19      0\n",
       "V18      0\n",
       "V17      0\n",
       "V15      0\n",
       "V2       0\n",
       "V14      0\n",
       "V13      0\n",
       "V12      0\n",
       "V11      0\n",
       "V10      0\n",
       "V9       0\n",
       "V8       0\n",
       "V7       0\n",
       "V6       0\n",
       "V5       0\n",
       "V4       0\n",
       "V3       0\n",
       "Class    0\n",
       "dtype: int64"
      ]
     },
     "execution_count": 9,
     "metadata": {},
     "output_type": "execute_result"
    }
   ],
   "source": [
    "# Null check\n",
    "df.dropna(inplace=True)\n",
    "(df.isnull().sum()).sort_values(ascending=False)"
   ]
  },
  {
   "cell_type": "code",
   "execution_count": 10,
   "metadata": {
    "id": "5HqWwYwwuWCS"
   },
   "outputs": [],
   "source": [
    "X = df.iloc[1:20000, :]\n",
    "y = X.pop('Class')"
   ]
  },
  {
   "cell_type": "code",
   "execution_count": 11,
   "metadata": {
    "colab": {
     "base_uri": "https://localhost:8080/"
    },
    "id": "xxvM0qpJdm7L",
    "outputId": "907e9d21-0b6e-407b-9f2c-a72652c24e28"
   },
   "outputs": [
    {
     "data": {
      "text/plain": [
       "Index(['V1', 'V2', 'V3', 'V4', 'V5', 'V6', 'V7', 'V8', 'V9', 'V10', 'V11',\n",
       "       'V12', 'V13', 'V14', 'V15', 'V16', 'V17', 'V18', 'V19', 'V20', 'V21',\n",
       "       'V22', 'V23', 'V24', 'V25', 'V26', 'V27', 'V28'],\n",
       "      dtype='object')"
      ]
     },
     "execution_count": 11,
     "metadata": {},
     "output_type": "execute_result"
    }
   ],
   "source": [
    "X.columns"
   ]
  },
  {
   "cell_type": "code",
   "execution_count": 12,
   "metadata": {
    "colab": {
     "base_uri": "https://localhost:8080/"
    },
    "id": "-_GnKWujdtzD",
    "outputId": "c6fb2426-1131-42de-a2f7-671f94704bd3"
   },
   "outputs": [
    {
     "data": {
      "text/plain": [
       "1        0\n",
       "2        0\n",
       "3        0\n",
       "4        0\n",
       "5        0\n",
       "        ..\n",
       "19995    0\n",
       "19996    0\n",
       "19997    0\n",
       "19998    0\n",
       "19999    0\n",
       "Name: Class, Length: 19999, dtype: int64"
      ]
     },
     "execution_count": 12,
     "metadata": {},
     "output_type": "execute_result"
    }
   ],
   "source": [
    "y"
   ]
  },
  {
   "cell_type": "code",
   "execution_count": 13,
   "metadata": {
    "id": "7c0soeOwFbsC"
   },
   "outputs": [],
   "source": [
    "from sklearn.preprocessing import MinMaxScaler\n",
    "\n",
    "scaler = MinMaxScaler()\n",
    "X = scaler.fit_transform(X)"
   ]
  },
  {
   "cell_type": "code",
   "execution_count": 14,
   "metadata": {
    "colab": {
     "base_uri": "https://localhost:8080/"
    },
    "id": "jABm02NqFsM4",
    "outputId": "f9c093b2-28a0-464f-ca97-7793fae18771"
   },
   "outputs": [
    {
     "data": {
      "text/plain": [
       "array([[0.97635892, 0.7149142 , 0.88822067, ..., 0.30158166, 0.50877707,\n",
       "        0.42805246],\n",
       "       [0.89792196, 0.6870714 , 0.93385939, ..., 0.24701073, 0.50602058,\n",
       "        0.41926253],\n",
       "       [0.90998126, 0.70709033, 0.93442135, ..., 0.22995267, 0.51303969,\n",
       "        0.43356811],\n",
       "       ...,\n",
       "       [0.90706017, 0.72281101, 0.89966625, ..., 0.33082703, 0.5224136 ,\n",
       "        0.44067894],\n",
       "       [0.90969956, 0.6817126 , 0.92840986, ..., 0.19868867, 0.51027156,\n",
       "        0.40597399],\n",
       "       [0.97266062, 0.71053772, 0.92625345, ..., 0.19004387, 0.51506971,\n",
       "        0.43135281]])"
      ]
     },
     "execution_count": 14,
     "metadata": {},
     "output_type": "execute_result"
    }
   ],
   "source": [
    "X"
   ]
  },
  {
   "cell_type": "code",
   "execution_count": 15,
   "metadata": {
    "id": "5SbxIhgyuZRE"
   },
   "outputs": [],
   "source": [
    "from sklearn.model_selection import train_test_split\n",
    "\n",
    "X_train, X_test, y_train, y_test = train_test_split(X, y, test_size=0.30, random_state=101)"
   ]
  },
  {
   "cell_type": "markdown",
   "metadata": {
    "id": "a6OL8RH_3fM7",
    "tags": []
   },
   "source": [
    "## Logistic Regression Classification"
   ]
  },
  {
   "cell_type": "code",
   "execution_count": 16,
   "metadata": {
    "id": "8d85_sQszziV"
   },
   "outputs": [],
   "source": [
    "from sklearn.linear_model import LogisticRegression\n",
    "lr = LogisticRegression()"
   ]
  },
  {
   "cell_type": "code",
   "execution_count": 17,
   "metadata": {
    "colab": {
     "base_uri": "https://localhost:8080/"
    },
    "id": "4Z6PXNT71u0e",
    "outputId": "8a9f0fca-8c87-4c4b-8e7e-253949427122"
   },
   "outputs": [
    {
     "data": {
      "text/plain": [
       "LogisticRegression()"
      ]
     },
     "execution_count": 17,
     "metadata": {},
     "output_type": "execute_result"
    }
   ],
   "source": [
    "# fit\n",
    "lr.fit(X_train,y_train)"
   ]
  },
  {
   "cell_type": "code",
   "execution_count": 18,
   "metadata": {
    "id": "wdAl_lpG1yfw"
   },
   "outputs": [],
   "source": [
    "# Making predictions\n",
    "predictions_lr = lr.predict(X_test)"
   ]
  },
  {
   "cell_type": "code",
   "execution_count": 19,
   "metadata": {
    "colab": {
     "base_uri": "https://localhost:8080/"
    },
    "id": "sZcpic4G16MY",
    "outputId": "c7c166fb-3573-4624-fa20-8a89749ef0de"
   },
   "outputs": [
    {
     "name": "stdout",
     "output_type": "stream",
     "text": [
      "              precision    recall  f1-score   support\n",
      "\n",
      "           0       1.00      1.00      1.00      5976\n",
      "           1       0.60      0.50      0.55        24\n",
      "\n",
      "    accuracy                           1.00      6000\n",
      "   macro avg       0.80      0.75      0.77      6000\n",
      "weighted avg       1.00      1.00      1.00      6000\n",
      "\n"
     ]
    }
   ],
   "source": [
    "# Let's check the report of our default model\n",
    "from sklearn.metrics import classification_report\n",
    "print(classification_report(y_test,predictions_lr))"
   ]
  },
  {
   "cell_type": "code",
   "execution_count": 22,
   "metadata": {
    "colab": {
     "base_uri": "https://localhost:8080/",
     "height": 313
    },
    "id": "nBLDDl4S1_wM",
    "outputId": "0454e36f-1028-4710-aca1-fb19db3250a0"
   },
   "outputs": [
    {
     "data": {
      "text/plain": [
       "<AxesSubplot:title={'center':'Confusion Matrix'}, xlabel='Predicted label', ylabel='True label'>"
      ]
     },
     "execution_count": 22,
     "metadata": {},
     "output_type": "execute_result"
    },
    {
     "data": {
      "image/png": "[encoded data removed]",
      "text/plain": [
       "<Figure size 432x288 with 2 Axes>"
      ]
     },
     "metadata": {
      "needs_background": "light"
     },
     "output_type": "display_data"
    }
   ],
   "source": [
    "# Printing confusion matrix\n",
    "# from sklearn.metrics import confusion_matrix, ConfusionMatrixDisplay\n",
    "# cm = confusion_matrix(y_test,predictions_lr,labels=[0, 1])\n",
    "# disp = ConfusionMatrixDisplay(confusion_matrix=cm,display_labels=['Not Fraud', 'Fraud'])\n",
    "# disp.plot()\n",
    "\n",
    "import scikitplot as skplt\n",
    "skplt.metrics.plot_confusion_matrix(y_test,predictions_lr,labels=[0,1])\n"
   ]
  },
  {
   "cell_type": "code",
   "execution_count": 23,
   "metadata": {
    "colab": {
     "base_uri": "https://localhost:8080/"
    },
    "id": "6BvSpFlECs_d",
    "outputId": "b235c87b-4394-4d53-f596-c95cc673e2e6"
   },
   "outputs": [
    {
     "name": "stdout",
     "output_type": "stream",
     "text": [
      "Accuracy score: 0.9966666666666667\n"
     ]
    }
   ],
   "source": [
    "from sklearn.metrics import accuracy_score\n",
    "print('Accuracy score:',accuracy_score(y_test,predictions_lr))"
   ]
  },
  {
   "cell_type": "code",
   "execution_count": 24,
   "metadata": {
    "colab": {
     "base_uri": "https://localhost:8080/"
    },
    "id": "qaJ2ZGT_C0kW",
    "outputId": "1765a513-211c-4aee-cf7e-2940a68cbefa"
   },
   "outputs": [
    {
     "name": "stdout",
     "output_type": "stream",
     "text": [
      "ROC Accuracy: 0.749330655957162\n"
     ]
    }
   ],
   "source": [
    "from sklearn.metrics import roc_auc_score\n",
    "print('ROC Accuracy:', roc_auc_score(y_test,predictions_lr))"
   ]
  },
  {
   "cell_type": "markdown",
   "metadata": {
    "id": "FUNdgytk51sj"
   },
   "source": [
    "* True Positive  =  Actual Positive, Predicted Positive \n",
    "* True Negative  =  Actual Negative, Predicted Negative \n",
    "*False Positive =  Atual Negative, Predicted Positive\n",
    "*False Negative = Actual Negative, Predicted Negative \n"
   ]
  },
  {
   "cell_type": "code",
   "execution_count": 25,
   "metadata": {
    "colab": {
     "base_uri": "https://localhost:8080/"
    },
    "id": "37PhUgQg2bDf",
    "outputId": "51aae34b-d16d-40ac-ae21-da5ee75ce039"
   },
   "outputs": [
    {
     "name": "stdout",
     "output_type": "stream",
     "text": [
      "\n",
      "True Negatives: 5968\n",
      "False Positives: 8\n",
      "False Negatives: 12\n",
      "True Positives: 12\n",
      "\n"
     ]
    }
   ],
   "source": [
    "# Get TNs, FPs, FNs, TPs\n",
    "\n",
    "from sklearn.metrics import confusion_matrix, ConfusionMatrixDisplay\n",
    "cm = confusion_matrix(y_test,predictions_lr,labels=[0, 1])\n",
    "\n",
    "tn, fp, fn, tp = cm.ravel()\n",
    "\n",
    "s = f\"\"\"\n",
    "True Negatives: {tn}\n",
    "False Positives: {fp}\n",
    "False Negatives: {fn}\n",
    "True Positives: {tp}\n",
    "\"\"\".format(tn, fp, fn, tp)\n",
    "\n",
    "print(s)"
   ]
  },
  {
   "cell_type": "markdown",
   "metadata": {
    "id": "yTDBFrhv6IpF"
   },
   "source": [
    "### Accuracy =  𝑇𝑃+𝑇𝑁/(𝑇𝑃+𝑇𝑁+𝐹𝑃+𝐹𝑁) "
   ]
  },
  {
   "cell_type": "code",
   "execution_count": 28,
   "metadata": {
    "colab": {
     "base_uri": "https://localhost:8080/",
     "height": 35
    },
    "id": "TiMtyeGB5f3a",
    "outputId": "2cffd4af-d474-43a9-8eda-6a35152fcd46"
   },
   "outputs": [
    {
     "data": {
      "text/plain": [
       "'Accuracy: 0.9966666666666667'"
      ]
     },
     "execution_count": 28,
     "metadata": {},
     "output_type": "execute_result"
    }
   ],
   "source": [
    "def accuracy(tn, fp, fn, tp):\n",
    "  return (tp + tn) / (tp + tn + fp + fn)\n",
    "\n",
    "\"Accuracy: {0}\".format(accuracy(tn, fp, fn, tp))"
   ]
  },
  {
   "cell_type": "markdown",
   "metadata": {
    "id": "94NThtxpALXG"
   },
   "source": [
    "### Recall = Sentivity = True Positive Rate =  𝑇𝑃/(𝑇𝑃+𝐹𝑁)"
   ]
  },
  {
   "cell_type": "code",
   "execution_count": 29,
   "metadata": {
    "colab": {
     "base_uri": "https://localhost:8080/",
     "height": 35
    },
    "id": "AakiB9lpApre",
    "outputId": "ddcb9faf-0f5f-493c-fd8f-b1defd0f38b4"
   },
   "outputs": [
    {
     "data": {
      "text/plain": [
       "'True Positive Rate: 0.5'"
      ]
     },
     "execution_count": 29,
     "metadata": {},
     "output_type": "execute_result"
    }
   ],
   "source": [
    "def tpr(tn, fp, fn, tp):\n",
    "  return tp / (tp + fn)\n",
    "\n",
    "\"True Positive Rate: {0}\".format(tpr(tn, fp, fn, tp))"
   ]
  },
  {
   "cell_type": "markdown",
   "metadata": {
    "id": "XhlaZaJcAt5h"
   },
   "source": [
    "### False Negative Rate  =  𝐹𝑁/(𝑇𝑃+𝐹𝑁 )"
   ]
  },
  {
   "cell_type": "code",
   "execution_count": 30,
   "metadata": {
    "colab": {
     "base_uri": "https://localhost:8080/",
     "height": 35
    },
    "id": "_IUDDkYvBAga",
    "outputId": "ca1532b4-1a84-4b92-fb1f-008f3a9eeb8c"
   },
   "outputs": [
    {
     "data": {
      "text/plain": [
       "'False Negative Rate: 0.5'"
      ]
     },
     "execution_count": 30,
     "metadata": {},
     "output_type": "execute_result"
    }
   ],
   "source": [
    "def fnr(tn, fp, fn, tp):\n",
    "  return fn / (tp + fn)\n",
    "\n",
    "\"False Negative Rate: {0}\".format(fnr(tn, fp, fn, tp))"
   ]
  },
  {
   "cell_type": "markdown",
   "metadata": {
    "id": "zJf9gJkhBMLM"
   },
   "source": [
    "### Specificity = True Negative Rate =  𝑇𝑁/(𝑇𝑁+𝐹𝑃)"
   ]
  },
  {
   "cell_type": "code",
   "execution_count": 31,
   "metadata": {
    "colab": {
     "base_uri": "https://localhost:8080/",
     "height": 35
    },
    "id": "F7mWd2YyBnIw",
    "outputId": "9ae3c3c4-cca5-4b35-d2b0-a358a8dc1a2c"
   },
   "outputs": [
    {
     "data": {
      "text/plain": [
       "'True Negative Rate: 0.998661311914324'"
      ]
     },
     "execution_count": 31,
     "metadata": {},
     "output_type": "execute_result"
    }
   ],
   "source": [
    "def tnr(tn, fp, fn, tp):\n",
    "  return tn / (tn + fp)\n",
    "\n",
    "\"True Negative Rate: {0}\".format(tnr(tn, fp, fn, tp))"
   ]
  },
  {
   "cell_type": "markdown",
   "metadata": {
    "id": "9nzPaV48BsVk"
   },
   "source": [
    "### False Postive Rate  =  𝐹𝑃/(𝑇𝑁+𝐹𝑃 )"
   ]
  },
  {
   "cell_type": "code",
   "execution_count": 32,
   "metadata": {
    "colab": {
     "base_uri": "https://localhost:8080/",
     "height": 35
    },
    "id": "3CdAuSnwByjR",
    "outputId": "a0c58df9-babd-4cc2-c474-b53af8116787"
   },
   "outputs": [
    {
     "data": {
      "text/plain": [
       "'False Positive Rate: 0.0013386880856760374'"
      ]
     },
     "execution_count": 32,
     "metadata": {},
     "output_type": "execute_result"
    }
   ],
   "source": [
    "def fpr(tn, fp, fn, tp):\n",
    "  return fp / (tn + fp)\n",
    "\n",
    "\"False Positive Rate: {0}\".format(fpr(tn, fp, fn, tp))"
   ]
  },
  {
   "cell_type": "markdown",
   "metadata": {
    "id": "arYcstNuB5bX"
   },
   "source": [
    "### Precision =  𝑇𝑃/(𝑇𝑃+𝐹𝑃) "
   ]
  },
  {
   "cell_type": "code",
   "execution_count": 33,
   "metadata": {
    "colab": {
     "base_uri": "https://localhost:8080/",
     "height": 35
    },
    "id": "a153-KCKCBMB",
    "outputId": "effaab0b-0f6d-458f-8403-52ce86b8202d"
   },
   "outputs": [
    {
     "data": {
      "text/plain": [
       "'Positive Predictive Value: 0.6'"
      ]
     },
     "execution_count": 33,
     "metadata": {},
     "output_type": "execute_result"
    }
   ],
   "source": [
    "def ppv(tn, fp, fn, tp):\n",
    "  return tp / (tp + fp)\n",
    "\n",
    "\"Positive Predictive Value: {0}\".format(ppv(tn, fp, fn, tp))"
   ]
  },
  {
   "cell_type": "markdown",
   "metadata": {
    "id": "BSnNc6EPCNuF"
   },
   "source": [
    "### F1 =  2∗𝑃𝑟𝑒𝑐𝑖𝑠𝑖𝑐𝑖𝑜𝑛∗𝑅𝑒𝑐𝑎𝑙𝑙 / (𝑃𝑟𝑒𝑐𝑖𝑠𝑖𝑜𝑛+𝑅𝑒𝑐𝑎𝑙𝑙)"
   ]
  },
  {
   "cell_type": "code",
   "execution_count": 34,
   "metadata": {
    "colab": {
     "base_uri": "https://localhost:8080/",
     "height": 35
    },
    "id": "-Hi-cYPbCKxj",
    "outputId": "64930c46-b9b1-428b-cdce-2e4cdd59f02e"
   },
   "outputs": [
    {
     "data": {
      "text/plain": [
       "'F1 Score: 0.5454545454545454'"
      ]
     },
     "execution_count": 34,
     "metadata": {},
     "output_type": "execute_result"
    }
   ],
   "source": [
    "def f1(tn, fp, fn, tp):\n",
    "  p = ppv(tn, fp, fn, tp)\n",
    "  r = tpr(tn, fp, fn, tp)\n",
    "  \n",
    "  return (2*p*r) / (p + r)\n",
    "\n",
    "\"F1 Score: {0}\".format(f1(tn, fp, fn, tp))"
   ]
  },
  {
   "cell_type": "code",
   "execution_count": 35,
   "metadata": {
    "colab": {
     "base_uri": "https://localhost:8080/",
     "height": 313
    },
    "id": "BHIbi0AkENJR",
    "outputId": "d55a64c8-79cc-4419-a474-2803f2c28e0f"
   },
   "outputs": [
    {
     "data": {
      "text/plain": [
       "<AxesSubplot:title={'center':'ROC Curves'}, xlabel='False Positive Rate', ylabel='True Positive Rate'>"
      ]
     },
     "execution_count": 35,
     "metadata": {},
     "output_type": "execute_result"
    },
    {
     "data": {
      "image/png": "[encoded data removed]",
      "text/plain": [
       "<Figure size 432x288 with 1 Axes>"
      ]
     },
     "metadata": {
      "needs_background": "light"
     },
     "output_type": "display_data"
    }
   ],
   "source": [
    "y_probas = lr.predict_proba(X_test)\n",
    "skplt.metrics.plot_roc(y_test, y_probas)"
   ]
  },
  {
   "cell_type": "code",
   "execution_count": 36,
   "metadata": {
    "colab": {
     "base_uri": "https://localhost:8080/",
     "height": 313
    },
    "id": "3dv30MN_GnIF",
    "outputId": "914566bd-8a72-451e-9579-c68ad27f7701"
   },
   "outputs": [
    {
     "data": {
      "text/plain": [
       "<AxesSubplot:title={'center':'Precision-Recall Curve'}, xlabel='Recall', ylabel='Precision'>"
      ]
     },
     "execution_count": 36,
     "metadata": {},
     "output_type": "execute_result"
    },
    {
     "data": {
      "image/png": "[encoded data removed]",
      "text/plain": [
       "<Figure size 432x288 with 1 Axes>"
      ]
     },
     "metadata": {
      "needs_background": "light"
     },
     "output_type": "display_data"
    }
   ],
   "source": [
    "skplt.metrics.plot_precision_recall(y_test, y_probas)"
   ]
  },
  {
   "cell_type": "markdown",
   "metadata": {
    "id": "jE9dbZ_pIpHk",
    "tags": []
   },
   "source": [
    "## K Nearest Neighbor Classification"
   ]
  },
  {
   "cell_type": "code",
   "execution_count": 37,
   "metadata": {
    "id": "b9eEphYwGcrM"
   },
   "outputs": [],
   "source": [
    "from sklearn.neighbors import KNeighborsClassifier\n",
    "knn = KNeighborsClassifier(n_neighbors=5)"
   ]
  },
  {
   "cell_type": "code",
   "execution_count": 38,
   "metadata": {
    "colab": {
     "base_uri": "https://localhost:8080/"
    },
    "id": "nSdOJ_LsG5fz",
    "outputId": "1a35ca3e-f8b2-44ab-c8bf-647447613a3f"
   },
   "outputs": [
    {
     "data": {
      "text/plain": [
       "KNeighborsClassifier()"
      ]
     },
     "execution_count": 38,
     "metadata": {},
     "output_type": "execute_result"
    }
   ],
   "source": [
    "# fit\n",
    "knn.fit(X_train,y_train)"
   ]
  },
  {
   "cell_type": "code",
   "execution_count": 39,
   "metadata": {
    "id": "lr9bTr2BG6-H"
   },
   "outputs": [],
   "source": [
    "# Making predictions\n",
    "predictions_knn = knn.predict(X_test)"
   ]
  },
  {
   "cell_type": "code",
   "execution_count": 40,
   "metadata": {
    "colab": {
     "base_uri": "https://localhost:8080/"
    },
    "id": "KyOY2oEGG_l7",
    "outputId": "ac747505-8fdc-4359-f59e-abd87eefa53d"
   },
   "outputs": [
    {
     "name": "stdout",
     "output_type": "stream",
     "text": [
      "              precision    recall  f1-score   support\n",
      "\n",
      "           0       1.00      1.00      1.00      5976\n",
      "           1       0.94      0.71      0.81        24\n",
      "\n",
      "    accuracy                           1.00      6000\n",
      "   macro avg       0.97      0.85      0.90      6000\n",
      "weighted avg       1.00      1.00      1.00      6000\n",
      "\n"
     ]
    }
   ],
   "source": [
    "# Let's check the report of our default model\n",
    "print(classification_report(y_test,predictions_knn))"
   ]
  },
  {
   "cell_type": "code",
   "execution_count": 41,
   "metadata": {
    "colab": {
     "base_uri": "https://localhost:8080/",
     "height": 0
    },
    "id": "faNy_aD0HEfe",
    "outputId": "7570a3fb-9854-4ff7-ed3a-e2d2695457a5"
   },
   "outputs": [
    {
     "data": {
      "text/plain": [
       "<AxesSubplot:title={'center':'Confusion Matrix'}, xlabel='Predicted label', ylabel='True label'>"
      ]
     },
     "execution_count": 41,
     "metadata": {},
     "output_type": "execute_result"
    },
    {
     "data": {
      "image/png": "[encoded data removed]",
      "text/plain": [
       "<Figure size 432x288 with 2 Axes>"
      ]
     },
     "metadata": {
      "needs_background": "light"
     },
     "output_type": "display_data"
    }
   ],
   "source": [
    "# Printing confusion matrix\n",
    "# from sklearn.metrics import confusion_matrix, ConfusionMatrixDisplay\n",
    "# cm = confusion_matrix(y_test,predictions_dtc,labels=[0, 1])\n",
    "# disp = ConfusionMatrixDisplay(confusion_matrix=cm,display_labels=['Not Fraud', 'Fraud'])\n",
    "# disp.plot()\n",
    "\n",
    "skplt.metrics.plot_confusion_matrix(y_test,predictions_knn,labels=[0,1])"
   ]
  },
  {
   "cell_type": "code",
   "execution_count": 42,
   "metadata": {
    "colab": {
     "base_uri": "https://localhost:8080/"
    },
    "id": "W_PQYXAfHL5N",
    "outputId": "472b252c-1fcf-4344-a49b-ed18e1bb3cae"
   },
   "outputs": [
    {
     "name": "stdout",
     "output_type": "stream",
     "text": [
      "Accuracy score: 0.9986666666666667\n"
     ]
    }
   ],
   "source": [
    "print('Accuracy score:',accuracy_score(y_test,predictions_knn))"
   ]
  },
  {
   "cell_type": "code",
   "execution_count": 43,
   "metadata": {
    "colab": {
     "base_uri": "https://localhost:8080/"
    },
    "id": "4HL4wMFdHQld",
    "outputId": "53bf9d8e-14e2-491f-8d42-dca0d88c7091"
   },
   "outputs": [
    {
     "name": "stdout",
     "output_type": "stream",
     "text": [
      "ROC Accuracy: 0.854082998661312\n"
     ]
    }
   ],
   "source": [
    "print('ROC Accuracy:', roc_auc_score(y_test,predictions_knn))"
   ]
  },
  {
   "cell_type": "markdown",
   "metadata": {
    "id": "iauFe1PLCUgX",
    "tags": []
   },
   "source": [
    "## Guassian Naive Bayes Clasificatin"
   ]
  },
  {
   "cell_type": "code",
   "execution_count": 44,
   "metadata": {
    "id": "ONXK_NLdIb2n"
   },
   "outputs": [],
   "source": [
    "from sklearn.naive_bayes import GaussianNB\n",
    "nb = GaussianNB()"
   ]
  },
  {
   "cell_type": "code",
   "execution_count": 45,
   "metadata": {
    "colab": {
     "base_uri": "https://localhost:8080/"
    },
    "id": "JJYeIegfIhNE",
    "outputId": "c94b4b0f-9cd4-4118-fabf-e6671418a216"
   },
   "outputs": [
    {
     "data": {
      "text/plain": [
       "GaussianNB()"
      ]
     },
     "execution_count": 45,
     "metadata": {},
     "output_type": "execute_result"
    }
   ],
   "source": [
    "# fit\n",
    "nb.fit(X_train,y_train)"
   ]
  },
  {
   "cell_type": "code",
   "execution_count": 46,
   "metadata": {
    "id": "kHnUPq6WIjtz"
   },
   "outputs": [],
   "source": [
    "# Making predictions\n",
    "predictions_nb = nb.predict(X_test)"
   ]
  },
  {
   "cell_type": "code",
   "execution_count": 47,
   "metadata": {
    "colab": {
     "base_uri": "https://localhost:8080/"
    },
    "id": "4J7VXPPmInH0",
    "outputId": "976796cb-bd95-485e-9944-ca234c34b2ad"
   },
   "outputs": [
    {
     "name": "stdout",
     "output_type": "stream",
     "text": [
      "              precision    recall  f1-score   support\n",
      "\n",
      "           0       1.00      0.98      0.99      5976\n",
      "           1       0.15      0.96      0.26        24\n",
      "\n",
      "    accuracy                           0.98      6000\n",
      "   macro avg       0.57      0.97      0.62      6000\n",
      "weighted avg       1.00      0.98      0.99      6000\n",
      "\n"
     ]
    }
   ],
   "source": [
    "# Let's check the report of our default model\n",
    "print(classification_report(y_test,predictions_nb))"
   ]
  },
  {
   "cell_type": "code",
   "execution_count": 48,
   "metadata": {
    "colab": {
     "base_uri": "https://localhost:8080/",
     "height": 0
    },
    "id": "AjT6MQEUIrIW",
    "outputId": "55148376-3477-4822-999c-d33d6b3bea99"
   },
   "outputs": [
    {
     "data": {
      "text/plain": [
       "<AxesSubplot:title={'center':'Confusion Matrix'}, xlabel='Predicted label', ylabel='True label'>"
      ]
     },
     "execution_count": 48,
     "metadata": {},
     "output_type": "execute_result"
    },
    {
     "data": {
      "image/png": "[encoded data removed]",
      "text/plain": [
       "<Figure size 432x288 with 2 Axes>"
      ]
     },
     "metadata": {
      "needs_background": "light"
     },
     "output_type": "display_data"
    }
   ],
   "source": [
    "# Printing confusion matrix\n",
    "# from sklearn.metrics import confusion_matrix, ConfusionMatrixDisplay\n",
    "# cm = confusion_matrix(y_test,predictions_dtc,labels=[0, 1])\n",
    "# disp = ConfusionMatrixDisplay(confusion_matrix=cm,display_labels=['Not Fraud', 'Fraud'])\n",
    "# disp.plot()\n",
    "\n",
    "skplt.metrics.plot_confusion_matrix(y_test,predictions_nb,labels=[0,1])"
   ]
  },
  {
   "cell_type": "code",
   "execution_count": 49,
   "metadata": {
    "colab": {
     "base_uri": "https://localhost:8080/"
    },
    "id": "6l3pIHpWTcW-",
    "outputId": "be3f8fd8-06ee-4582-bc9f-7527131d7b4c"
   },
   "outputs": [
    {
     "name": "stdout",
     "output_type": "stream",
     "text": [
      "Accuracy score: 0.9778333333333333\n"
     ]
    }
   ],
   "source": [
    "print('Accuracy score:',accuracy_score(y_test,predictions_nb))"
   ]
  },
  {
   "cell_type": "code",
   "execution_count": 50,
   "metadata": {
    "colab": {
     "base_uri": "https://localhost:8080/"
    },
    "id": "_znbdOCZTnoW",
    "outputId": "d618dcd0-e0eb-4ca7-b706-b4020f703e5c"
   },
   "outputs": [
    {
     "name": "stdout",
     "output_type": "stream",
     "text": [
      "ROC Accuracy: 0.9681224899598393\n"
     ]
    }
   ],
   "source": [
    "print('ROC Accuracy:', roc_auc_score(y_test,predictions_nb))"
   ]
  },
  {
   "cell_type": "markdown",
   "metadata": {
    "id": "q2-0E8gwIOoQ",
    "tags": []
   },
   "source": [
    "## Support Vector Machine Classification"
   ]
  },
  {
   "cell_type": "code",
   "execution_count": 51,
   "metadata": {
    "id": "oXzyG3KZHqMq"
   },
   "outputs": [],
   "source": [
    "from sklearn.svm import SVC\n",
    "svc= SVC()"
   ]
  },
  {
   "cell_type": "code",
   "execution_count": 52,
   "metadata": {
    "colab": {
     "base_uri": "https://localhost:8080/"
    },
    "id": "ghodBZDjH1h8",
    "outputId": "ace4ee2f-c108-49f9-f711-b03148074f51"
   },
   "outputs": [
    {
     "data": {
      "text/plain": [
       "SVC()"
      ]
     },
     "execution_count": 52,
     "metadata": {},
     "output_type": "execute_result"
    }
   ],
   "source": [
    "# fit\n",
    "svc.fit(X_train,y_train)"
   ]
  },
  {
   "cell_type": "code",
   "execution_count": 53,
   "metadata": {
    "id": "0Miry3JMH4MA"
   },
   "outputs": [],
   "source": [
    "# Making predictions\n",
    "predictions_svc = svc.predict(X_test)"
   ]
  },
  {
   "cell_type": "code",
   "execution_count": 54,
   "metadata": {
    "colab": {
     "base_uri": "https://localhost:8080/"
    },
    "id": "L2tBy9fnH7Te",
    "outputId": "9ba64219-b082-4483-c3f3-6df31a11ecf8"
   },
   "outputs": [
    {
     "name": "stdout",
     "output_type": "stream",
     "text": [
      "              precision    recall  f1-score   support\n",
      "\n",
      "           0       1.00      1.00      1.00      5976\n",
      "           1       0.94      0.71      0.81        24\n",
      "\n",
      "    accuracy                           1.00      6000\n",
      "   macro avg       0.97      0.85      0.90      6000\n",
      "weighted avg       1.00      1.00      1.00      6000\n",
      "\n"
     ]
    }
   ],
   "source": [
    "# Let's check the report of our default model\n",
    "print(classification_report(y_test,predictions_svc))"
   ]
  },
  {
   "cell_type": "code",
   "execution_count": 55,
   "metadata": {
    "colab": {
     "base_uri": "https://localhost:8080/",
     "height": 0
    },
    "id": "iUsBKmkmICZq",
    "outputId": "9e5783d5-6a59-48c1-ee30-10c8054eba4e"
   },
   "outputs": [
    {
     "data": {
      "text/plain": [
       "<AxesSubplot:title={'center':'Confusion Matrix'}, xlabel='Predicted label', ylabel='True label'>"
      ]
     },
     "execution_count": 55,
     "metadata": {},
     "output_type": "execute_result"
    },
    {
     "data": {
      "image/png": "[encoded data removed]",
      "text/plain": [
       "<Figure size 432x288 with 2 Axes>"
      ]
     },
     "metadata": {
      "needs_background": "light"
     },
     "output_type": "display_data"
    }
   ],
   "source": [
    "# Printing confusion matrix\n",
    "# from sklearn.metrics import confusion_matrix, ConfusionMatrixDisplay\n",
    "# cm = confusion_matrix(y_test,predictions_dtc,labels=[0, 1])\n",
    "# disp = ConfusionMatrixDisplay(confusion_matrix=cm,display_labels=['Not Fraud', 'Fraud'])\n",
    "# disp.plot()\n",
    "\n",
    "skplt.metrics.plot_confusion_matrix(y_test,predictions_svc,labels=[0,1])"
   ]
  },
  {
   "cell_type": "code",
   "execution_count": 56,
   "metadata": {
    "colab": {
     "base_uri": "https://localhost:8080/"
    },
    "id": "OdMSeghAIGNc",
    "outputId": "dec8e510-2885-4957-cae2-d18040bf3220"
   },
   "outputs": [
    {
     "name": "stdout",
     "output_type": "stream",
     "text": [
      "Accuracy score: 0.9986666666666667\n"
     ]
    }
   ],
   "source": [
    "print('Accuracy score:',accuracy_score(y_test,predictions_svc))"
   ]
  },
  {
   "cell_type": "code",
   "execution_count": 57,
   "metadata": {
    "colab": {
     "base_uri": "https://localhost:8080/"
    },
    "id": "5Ai4BYNYIJdA",
    "outputId": "b5c57ec9-fb61-45a5-e4f6-bd109f80c637"
   },
   "outputs": [
    {
     "name": "stdout",
     "output_type": "stream",
     "text": [
      "ROC Accuracy: 0.854082998661312\n"
     ]
    }
   ],
   "source": [
    "print('ROC Accuracy:', roc_auc_score(y_test,predictions_svc))"
   ]
  },
  {
   "cell_type": "markdown",
   "metadata": {
    "id": "SVVix84c3DQW"
   },
   "source": [
    "## Decision Tree Classification"
   ]
  },
  {
   "cell_type": "code",
   "execution_count": 58,
   "metadata": {
    "id": "F4WKOWO2w38W"
   },
   "outputs": [],
   "source": [
    "from sklearn.tree import DecisionTreeClassifier\n",
    "dtc = DecisionTreeClassifier(max_depth=None, min_samples_split=2, random_state=0)"
   ]
  },
  {
   "cell_type": "code",
   "execution_count": 59,
   "metadata": {
    "colab": {
     "base_uri": "https://localhost:8080/"
    },
    "id": "lLryqgCAw-eO",
    "outputId": "b5b0d19c-2615-4db7-bb66-d94cc63d90e0"
   },
   "outputs": [
    {
     "data": {
      "text/plain": [
       "DecisionTreeClassifier(random_state=0)"
      ]
     },
     "execution_count": 59,
     "metadata": {},
     "output_type": "execute_result"
    }
   ],
   "source": [
    "# fit\n",
    "dtc.fit(X_train,y_train)"
   ]
  },
  {
   "cell_type": "code",
   "execution_count": 60,
   "metadata": {
    "id": "sdPdnYGexAYg"
   },
   "outputs": [],
   "source": [
    "# Making predictions\n",
    "predictions_dtc = dtc.predict(X_test)"
   ]
  },
  {
   "cell_type": "code",
   "execution_count": 61,
   "metadata": {
    "colab": {
     "base_uri": "https://localhost:8080/"
    },
    "id": "_h4jiX4xxC3a",
    "outputId": "7bf73b65-f529-4aa4-b803-02422d4af027"
   },
   "outputs": [
    {
     "name": "stdout",
     "output_type": "stream",
     "text": [
      "              precision    recall  f1-score   support\n",
      "\n",
      "           0       1.00      1.00      1.00      5976\n",
      "           1       0.95      0.88      0.91        24\n",
      "\n",
      "    accuracy                           1.00      6000\n",
      "   macro avg       0.98      0.94      0.96      6000\n",
      "weighted avg       1.00      1.00      1.00      6000\n",
      "\n"
     ]
    }
   ],
   "source": [
    "# Let's check the report of our default model\n",
    "print(classification_report(y_test,predictions_dtc))"
   ]
  },
  {
   "cell_type": "code",
   "execution_count": 62,
   "metadata": {
    "colab": {
     "base_uri": "https://localhost:8080/",
     "height": 0
    },
    "id": "y5S0tlHmxE9b",
    "outputId": "71743f8e-00e8-4b1a-cd8e-c20a98401a09"
   },
   "outputs": [
    {
     "data": {
      "text/plain": [
       "<AxesSubplot:title={'center':'Confusion Matrix'}, xlabel='Predicted label', ylabel='True label'>"
      ]
     },
     "execution_count": 62,
     "metadata": {},
     "output_type": "execute_result"
    },
    {
     "data": {
      "image/png": "[encoded data removed]",
      "text/plain": [
       "<Figure size 432x288 with 2 Axes>"
      ]
     },
     "metadata": {
      "needs_background": "light"
     },
     "output_type": "display_data"
    }
   ],
   "source": [
    "# Printing confusion matrix\n",
    "# from sklearn.metrics import confusion_matrix, ConfusionMatrixDisplay\n",
    "# cm = confusion_matrix(y_test,predictions_dtc,labels=[0, 1])\n",
    "# disp = ConfusionMatrixDisplay(confusion_matrix=cm,display_labels=['Not Fraud', 'Fraud'])\n",
    "# disp.plot()\n",
    "\n",
    "skplt.metrics.plot_confusion_matrix(y_test,predictions_dtc,labels=[0,1])"
   ]
  },
  {
   "cell_type": "code",
   "execution_count": 63,
   "metadata": {
    "colab": {
     "base_uri": "https://localhost:8080/"
    },
    "id": "E41I7e4BxILS",
    "outputId": "baceb74e-281a-49a0-92eb-da2aa7e16cfc"
   },
   "outputs": [
    {
     "name": "stdout",
     "output_type": "stream",
     "text": [
      "Accuracy score: 0.9993333333333333\n"
     ]
    }
   ],
   "source": [
    "print('Accuracy score:',accuracy_score(y_test,predictions_dtc))"
   ]
  },
  {
   "cell_type": "code",
   "execution_count": 64,
   "metadata": {
    "colab": {
     "base_uri": "https://localhost:8080/"
    },
    "id": "_aIrpFHlxMdv",
    "outputId": "fe629564-0e38-4aa0-a5cf-6d09676abc1a"
   },
   "outputs": [
    {
     "name": "stdout",
     "output_type": "stream",
     "text": [
      "ROC Accuracy: 0.9374163319946452\n"
     ]
    }
   ],
   "source": [
    "print('ROC Accuracy:', roc_auc_score(y_test,predictions_dtc))"
   ]
  },
  {
   "cell_type": "markdown",
   "metadata": {
    "id": "dcZVHkZ12vyP",
    "tags": []
   },
   "source": [
    "## Random Forest Classificaton"
   ]
  },
  {
   "cell_type": "code",
   "execution_count": 65,
   "metadata": {
    "id": "74dAM26NukvX"
   },
   "outputs": [],
   "source": [
    "from sklearn.ensemble import RandomForestClassifier\n",
    "rfc = RandomForestClassifier()"
   ]
  },
  {
   "cell_type": "code",
   "execution_count": 66,
   "metadata": {
    "colab": {
     "base_uri": "https://localhost:8080/"
    },
    "id": "2TgPlWPQunB8",
    "outputId": "590b820c-e6e3-4f36-bc37-f0ed73172b6f"
   },
   "outputs": [
    {
     "data": {
      "text/plain": [
       "RandomForestClassifier()"
      ]
     },
     "execution_count": 66,
     "metadata": {},
     "output_type": "execute_result"
    }
   ],
   "source": [
    "# fit\n",
    "rfc.fit(X_train,y_train)"
   ]
  },
  {
   "cell_type": "code",
   "execution_count": 70,
   "metadata": {
    "id": "lcyrR4PDuqOS"
   },
   "outputs": [],
   "source": [
    "# Making predictions\n",
    "predictions_rfc = rfc.predict(X_test)"
   ]
  },
  {
   "cell_type": "code",
   "execution_count": 68,
   "metadata": {
    "id": "ymSY6tRuwgnO"
   },
   "outputs": [],
   "source": [
    "# Importing classification report and confusion matrix from sklearn metrics\n",
    "from sklearn.metrics import classification_report,confusion_matrix, accuracy_score\n",
    "from sklearn.metrics import roc_auc_score"
   ]
  },
  {
   "cell_type": "code",
   "execution_count": 71,
   "metadata": {
    "colab": {
     "base_uri": "https://localhost:8080/"
    },
    "id": "RQc8HtA2wjV3",
    "outputId": "61dcd9dd-be20-4db1-fc29-e3c0bbe7f763"
   },
   "outputs": [
    {
     "name": "stdout",
     "output_type": "stream",
     "text": [
      "              precision    recall  f1-score   support\n",
      "\n",
      "           0       1.00      1.00      1.00      5976\n",
      "           1       0.95      0.88      0.91        24\n",
      "\n",
      "    accuracy                           1.00      6000\n",
      "   macro avg       0.98      0.94      0.96      6000\n",
      "weighted avg       1.00      1.00      1.00      6000\n",
      "\n"
     ]
    }
   ],
   "source": [
    "# Let's check the report of our default model\n",
    "print(classification_report(y_test,predictions_rfc))"
   ]
  },
  {
   "cell_type": "code",
   "execution_count": 72,
   "metadata": {
    "colab": {
     "base_uri": "https://localhost:8080/",
     "height": 0
    },
    "id": "lAC0FpOxwllm",
    "outputId": "dbdc9971-4304-4914-a50c-837c862a36a5"
   },
   "outputs": [
    {
     "data": {
      "text/plain": [
       "<AxesSubplot:title={'center':'Confusion Matrix'}, xlabel='Predicted label', ylabel='True label'>"
      ]
     },
     "execution_count": 72,
     "metadata": {},
     "output_type": "execute_result"
    },
    {
     "data": {
      "image/png": "[encoded data removed]",
      "text/plain": [
       "<Figure size 432x288 with 2 Axes>"
      ]
     },
     "metadata": {
      "needs_background": "light"
     },
     "output_type": "display_data"
    }
   ],
   "source": [
    "# Printing confusion matrix\n",
    "# from sklearn.metrics import confusion_matrix, ConfusionMatrixDisplay\n",
    "# cm = confusion_matrix(y_test,predictions_rfc,labels=[0, 1])\n",
    "# disp = ConfusionMatrixDisplay(confusion_matrix=cm,display_labels=['Not Fraud', 'Fraud'])\n",
    "# disp.plot()\n",
    "\n",
    "skplt.metrics.plot_confusion_matrix(y_test,predictions_rfc,labels=[0,1])"
   ]
  },
  {
   "cell_type": "code",
   "execution_count": 74,
   "metadata": {
    "colab": {
     "base_uri": "https://localhost:8080/"
    },
    "id": "lj8uk8AHwxXe",
    "outputId": "034cba08-d17e-4976-abd5-e2ef44be73ce"
   },
   "outputs": [
    {
     "name": "stdout",
     "output_type": "stream",
     "text": [
      "Accuracy score: 0.9993333333333333\n"
     ]
    }
   ],
   "source": [
    "print('Accuracy score:',accuracy_score(y_test,predictions_rfc))\n",
    "# print(accuracy_score(y_test,predictions))"
   ]
  },
  {
   "cell_type": "code",
   "execution_count": 76,
   "metadata": {
    "colab": {
     "base_uri": "https://localhost:8080/"
    },
    "id": "cOpaPJBNw1tc",
    "outputId": "68077071-a047-4715-ce79-6627d5781450"
   },
   "outputs": [
    {
     "name": "stdout",
     "output_type": "stream",
     "text": [
      "ROC Accuracy: 0.9374163319946452\n"
     ]
    }
   ],
   "source": [
    "print('ROC Accuracy:', roc_auc_score(y_test,predictions_rfc))"
   ]
  },
  {
   "cell_type": "markdown",
   "metadata": {
    "id": "i1yeeHAv3Rdi",
    "tags": []
   },
   "source": [
    "## Neural Network Classification"
   ]
  },
  {
   "cell_type": "code",
   "execution_count": 77,
   "metadata": {
    "id": "msFShzMxxOFr"
   },
   "outputs": [],
   "source": [
    "from sklearn.neural_network import MLPClassifier\n",
    "MLPC = MLPClassifier(hidden_layer_sizes=(200,), max_iter=10000)"
   ]
  },
  {
   "cell_type": "code",
   "execution_count": 78,
   "metadata": {
    "colab": {
     "base_uri": "https://localhost:8080/"
    },
    "id": "pZPNHMdSxvtL",
    "outputId": "1ab90c20-e2cc-4214-e5e0-7420ad84c5c4"
   },
   "outputs": [
    {
     "data": {
      "text/plain": [
       "MLPClassifier(hidden_layer_sizes=(200,), max_iter=10000)"
      ]
     },
     "execution_count": 78,
     "metadata": {},
     "output_type": "execute_result"
    }
   ],
   "source": [
    "MLPC.fit(X_train, y_train)"
   ]
  },
  {
   "cell_type": "code",
   "execution_count": 79,
   "metadata": {
    "id": "tJkkXu2_zP2J"
   },
   "outputs": [],
   "source": [
    "# Making predictions\n",
    "predictions_MLPC = MLPC.predict(X_test)"
   ]
  },
  {
   "cell_type": "code",
   "execution_count": 80,
   "metadata": {
    "colab": {
     "base_uri": "https://localhost:8080/"
    },
    "id": "ISlSuaxyzb1j",
    "outputId": "2d8c6a74-7578-4ed7-eef9-a7eaeca6a78e"
   },
   "outputs": [
    {
     "name": "stdout",
     "output_type": "stream",
     "text": [
      "              precision    recall  f1-score   support\n",
      "\n",
      "           0       1.00      1.00      1.00      5976\n",
      "           1       0.62      0.67      0.64        24\n",
      "\n",
      "    accuracy                           1.00      6000\n",
      "   macro avg       0.81      0.83      0.82      6000\n",
      "weighted avg       1.00      1.00      1.00      6000\n",
      "\n"
     ]
    }
   ],
   "source": [
    "# Let's check the report of our default model\n",
    "print(classification_report(y_test,predictions_MLPC))"
   ]
  },
  {
   "cell_type": "code",
   "execution_count": 81,
   "metadata": {
    "colab": {
     "base_uri": "https://localhost:8080/",
     "height": 0
    },
    "id": "k8JlOBcwzgSU",
    "outputId": "59d503e4-05ef-40a1-d8f0-53dce064c6eb"
   },
   "outputs": [
    {
     "data": {
      "text/plain": [
       "<AxesSubplot:title={'center':'Confusion Matrix'}, xlabel='Predicted label', ylabel='True label'>"
      ]
     },
     "execution_count": 81,
     "metadata": {},
     "output_type": "execute_result"
    },
    {
     "data": {
      "image/png": "[encoded data removed]",
      "text/plain": [
       "<Figure size 432x288 with 2 Axes>"
      ]
     },
     "metadata": {
      "needs_background": "light"
     },
     "output_type": "display_data"
    }
   ],
   "source": [
    "# Printing confusion matrix\n",
    "# from sklearn.metrics import confusion_matrix, ConfusionMatrixDisplay\n",
    "# cm = confusion_matrix(y_test,predictions_MLPC,labels=[0, 1])\n",
    "# disp = ConfusionMatrixDisplay(confusion_matrix=cm,display_labels=['Not Fraud', 'Fraud'])\n",
    "# disp.plot()\n",
    "\n",
    "skplt.metrics.plot_confusion_matrix(y_test,predictions_MLPC,labels=[0,1])"
   ]
  },
  {
   "cell_type": "code",
   "execution_count": 82,
   "metadata": {
    "colab": {
     "base_uri": "https://localhost:8080/"
    },
    "id": "YgrljU3OzrG_",
    "outputId": "1a8e74cf-8446-42f9-ba2a-f17f7d16d014"
   },
   "outputs": [
    {
     "name": "stdout",
     "output_type": "stream",
     "text": [
      "Accuracy score: 0.997\n"
     ]
    }
   ],
   "source": [
    "print('Accuracy score:',accuracy_score(y_test,predictions_MLPC))"
   ]
  },
  {
   "cell_type": "code",
   "execution_count": 83,
   "metadata": {
    "colab": {
     "base_uri": "https://localhost:8080/"
    },
    "id": "hom_HQHvzwV2",
    "outputId": "e88d1a6a-e5d0-4d0c-e796-350bda276d0b"
   },
   "outputs": [
    {
     "name": "stdout",
     "output_type": "stream",
     "text": [
      "ROC Accuracy: 0.8324966532797857\n"
     ]
    }
   ],
   "source": [
    "print('ROC Accuracy:', roc_auc_score(y_test,predictions_MLPC))"
   ]
  },
  {
   "cell_type": "markdown",
   "metadata": {
    "id": "qjee3qvON0uE"
   },
   "source": [
    "## Deep Learning"
   ]
  },
  {
   "cell_type": "code",
   "execution_count": 84,
   "metadata": {
    "id": "QYTFzo5oI_un"
   },
   "outputs": [
    {
     "name": "stderr",
     "output_type": "stream",
     "text": [
      "2022-07-06 23:40:58.458921: I tensorflow/core/platform/cpu_feature_guard.cc:151] This TensorFlow binary is optimized with oneAPI Deep Neural Network Library (oneDNN) to use the following CPU instructions in performance-critical operations:  AVX2 FMA\n",
      "To enable them in other operations, rebuild TensorFlow with the appropriate compiler flags.\n"
     ]
    }
   ],
   "source": [
    "from tensorflow.keras.models import Sequential\n",
    "from tensorflow.keras.layers import Dense\n",
    "import tensorflow as tf\n",
    "\n",
    "model = Sequential()\n",
    "model.add(Dense(64,activation='relu',input_dim=28))\n",
    "model.add(Dense(64,activation='relu'))\n",
    "model.add(Dense(1,activation='sigmoid'))"
   ]
  },
  {
   "cell_type": "code",
   "execution_count": 88,
   "metadata": {
    "colab": {
     "base_uri": "https://localhost:8080/"
    },
    "id": "NRlaBLBhJF3y",
    "outputId": "75ef1b8e-264f-47ec-8eac-6692aadf94a1"
   },
   "outputs": [],
   "source": [
    "adam = tf.keras.optimizers.Adam(lr=0.00001)\n",
    "model.compile(optimizer='adam',loss='binary_crossentropy',metrics=['accuracy'])"
   ]
  },
  {
   "cell_type": "code",
   "execution_count": 89,
   "metadata": {
    "colab": {
     "base_uri": "https://localhost:8080/"
    },
    "id": "UY1UK4L3J7Y-",
    "outputId": "31cb8f9c-e46c-4fbb-fd20-c76d4a81b004"
   },
   "outputs": [
    {
     "data": {
      "text/plain": [
       "(13999, 28)"
      ]
     },
     "execution_count": 89,
     "metadata": {},
     "output_type": "execute_result"
    }
   ],
   "source": [
    "X_train.shape"
   ]
  },
  {
   "cell_type": "code",
   "execution_count": 90,
   "metadata": {
    "colab": {
     "base_uri": "https://localhost:8080/"
    },
    "id": "CJ_5moyEJSEo",
    "outputId": "59b83a4d-c26a-4586-e72d-504612a4247b"
   },
   "outputs": [
    {
     "name": "stdout",
     "output_type": "stream",
     "text": [
      "Epoch 1/15\n",
      "438/438 [==============================] - 1s 1ms/step - loss: 0.0365 - accuracy: 0.9912 - val_loss: 0.0138 - val_accuracy: 0.9973\n",
      "Epoch 2/15\n",
      "438/438 [==============================] - 0s 1ms/step - loss: 0.0131 - accuracy: 0.9968 - val_loss: 0.0104 - val_accuracy: 0.9967\n",
      "Epoch 3/15\n",
      "438/438 [==============================] - 0s 1ms/step - loss: 0.0115 - accuracy: 0.9968 - val_loss: 0.0101 - val_accuracy: 0.9967\n",
      "Epoch 4/15\n",
      "438/438 [==============================] - 0s 1ms/step - loss: 0.0104 - accuracy: 0.9966 - val_loss: 0.0080 - val_accuracy: 0.9967\n",
      "Epoch 5/15\n",
      "438/438 [==============================] - 0s 1ms/step - loss: 0.0095 - accuracy: 0.9971 - val_loss: 0.0073 - val_accuracy: 0.9968\n",
      "Epoch 6/15\n",
      "438/438 [==============================] - 0s 1ms/step - loss: 0.0091 - accuracy: 0.9973 - val_loss: 0.0122 - val_accuracy: 0.9973\n",
      "Epoch 7/15\n",
      "438/438 [==============================] - 0s 1ms/step - loss: 0.0087 - accuracy: 0.9969 - val_loss: 0.0072 - val_accuracy: 0.9967\n",
      "Epoch 8/15\n",
      "438/438 [==============================] - 0s 1ms/step - loss: 0.0083 - accuracy: 0.9972 - val_loss: 0.0077 - val_accuracy: 0.9973\n",
      "Epoch 9/15\n",
      "438/438 [==============================] - 0s 1ms/step - loss: 0.0077 - accuracy: 0.9974 - val_loss: 0.0068 - val_accuracy: 0.9977\n",
      "Epoch 10/15\n",
      "438/438 [==============================] - 1s 1ms/step - loss: 0.0075 - accuracy: 0.9978 - val_loss: 0.0055 - val_accuracy: 0.9973\n",
      "Epoch 11/15\n",
      "438/438 [==============================] - 1s 1ms/step - loss: 0.0073 - accuracy: 0.9972 - val_loss: 0.0086 - val_accuracy: 0.9967\n",
      "Epoch 12/15\n",
      "438/438 [==============================] - 0s 1ms/step - loss: 0.0065 - accuracy: 0.9979 - val_loss: 0.0048 - val_accuracy: 0.9983\n",
      "Epoch 13/15\n",
      "438/438 [==============================] - 0s 1ms/step - loss: 0.0066 - accuracy: 0.9979 - val_loss: 0.0076 - val_accuracy: 0.9975\n",
      "Epoch 14/15\n",
      "438/438 [==============================] - 0s 1ms/step - loss: 0.0064 - accuracy: 0.9979 - val_loss: 0.0047 - val_accuracy: 0.9982\n",
      "Epoch 15/15\n",
      "438/438 [==============================] - 0s 1ms/step - loss: 0.0064 - accuracy: 0.9979 - val_loss: 0.0044 - val_accuracy: 0.9985\n"
     ]
    }
   ],
   "source": [
    "EPOCHS = 15\n",
    "history = model.fit(X_train, y_train,epochs=EPOCHS,shuffle=True,batch_size = 32, validation_data=(X_test,y_test))"
   ]
  },
  {
   "cell_type": "code",
   "execution_count": 91,
   "metadata": {
    "colab": {
     "base_uri": "https://localhost:8080/",
     "height": 0
    },
    "id": "KyDq8ztLJeD3",
    "outputId": "bf7000fd-c519-4b07-eb5e-7500e47e6cd0"
   },
   "outputs": [
    {
     "data": {
      "image/png": "[encoded data removed]",
      "text/plain": [
       "<Figure size 1440x576 with 2 Axes>"
      ]
     },
     "metadata": {
      "needs_background": "light"
     },
     "output_type": "display_data"
    }
   ],
   "source": [
    "loss = history.history['loss']\n",
    "val_loss = history.history['val_loss']\n",
    "acc = history.history['accuracy']\n",
    "val_acc = history.history['val_accuracy']\n",
    "epoch = range(len(loss))\n",
    "\n",
    "import matplotlib.pyplot as plt\n",
    "\n",
    "plt.figure(figsize=(20, 8))\n",
    "plt.subplot(1, 2, 1)\n",
    "plt.plot(epoch,loss,label='loss')\n",
    "plt.plot(epoch,val_loss,label='val_loss')\n",
    "plt.xlabel('Epoch')\n",
    "plt.ylabel('Loss')\n",
    "plt.legend()\n",
    "\n",
    "plt.subplot(1, 2, 2)\n",
    "plt.plot(epoch,acc,label='acc')\n",
    "plt.plot(epoch,val_acc,label='val_acc')\n",
    "plt.xlabel('Epoch')\n",
    "plt.ylabel('Accuracy')\n",
    "plt.legend()\n",
    "\n",
    "plt.show()"
   ]
  },
  {
   "cell_type": "code",
   "execution_count": 92,
   "metadata": {
    "id": "soMJk5pWMF1U"
   },
   "outputs": [],
   "source": [
    "# Making predictions\n",
    "predictions_dl = np.where(model.predict(X_test)>0.5,1,0)"
   ]
  },
  {
   "cell_type": "code",
   "execution_count": 93,
   "metadata": {
    "colab": {
     "base_uri": "https://localhost:8080/"
    },
    "id": "CO6cFPYtMMt8",
    "outputId": "ab61a581-8186-434c-c777-5f58b3e31435"
   },
   "outputs": [
    {
     "name": "stdout",
     "output_type": "stream",
     "text": [
      "              precision    recall  f1-score   support\n",
      "\n",
      "           0       1.00      1.00      1.00      5976\n",
      "           1       0.78      0.88      0.82        24\n",
      "\n",
      "    accuracy                           1.00      6000\n",
      "   macro avg       0.89      0.94      0.91      6000\n",
      "weighted avg       1.00      1.00      1.00      6000\n",
      "\n"
     ]
    }
   ],
   "source": [
    "# Let's check the report of our default model\n",
    "print(classification_report(y_test,predictions_dl))"
   ]
  },
  {
   "cell_type": "code",
   "execution_count": 94,
   "metadata": {
    "colab": {
     "base_uri": "https://localhost:8080/",
     "height": 0
    },
    "id": "DvnJbs3KMSWM",
    "outputId": "b30d46fe-9b63-4432-8d9a-7dd38846326f"
   },
   "outputs": [
    {
     "data": {
      "text/plain": [
       "<AxesSubplot:title={'center':'Confusion Matrix'}, xlabel='Predicted label', ylabel='True label'>"
      ]
     },
     "execution_count": 94,
     "metadata": {},
     "output_type": "execute_result"
    },
    {
     "data": {
      "image/png": "[encoded data removed]",
      "text/plain": [
       "<Figure size 432x288 with 2 Axes>"
      ]
     },
     "metadata": {
      "needs_background": "light"
     },
     "output_type": "display_data"
    }
   ],
   "source": [
    "# Printing confusion matrix\n",
    "# from sklearn.metrics import confusion_matrix, ConfusionMatrixDisplay\n",
    "# cm = confusion_matrix(y_test,predictions_MLPC,labels=[0, 1])\n",
    "# disp = ConfusionMatrixDisplay(confusion_matrix=cm,display_labels=['Not Fraud', 'Fraud'])\n",
    "# disp.plot()\n",
    "\n",
    "skplt.metrics.plot_confusion_matrix(y_test,predictions_dl,labels=[0,1])"
   ]
  },
  {
   "cell_type": "code",
   "execution_count": 95,
   "metadata": {
    "colab": {
     "base_uri": "https://localhost:8080/"
    },
    "id": "fvgct3trNklU",
    "outputId": "9bba6c8a-9165-4168-e995-763399649d6f"
   },
   "outputs": [
    {
     "name": "stdout",
     "output_type": "stream",
     "text": [
      "Accuracy score: 0.9985\n"
     ]
    }
   ],
   "source": [
    "print('Accuracy score:',accuracy_score(y_test,predictions_dl))"
   ]
  },
  {
   "cell_type": "code",
   "execution_count": 96,
   "metadata": {
    "colab": {
     "base_uri": "https://localhost:8080/"
    },
    "id": "uFpexuEqNwQ0",
    "outputId": "29bdc66e-b0b1-4f91-c3ed-20d4ecf894ee"
   },
   "outputs": [
    {
     "name": "stdout",
     "output_type": "stream",
     "text": [
      "ROC Accuracy: 0.9369979919678715\n"
     ]
    }
   ],
   "source": [
    "print('ROC Accuracy:', roc_auc_score(y_test,predictions_dl))"
   ]
  },
  {
   "cell_type": "markdown",
   "metadata": {
    "id": "GAVvqIZHTyRF",
    "jp-MarkdownHeadingCollapsed": true,
    "tags": []
   },
   "source": [
    "## Hyperparameter Tunning with Grid Search"
   ]
  },
  {
   "cell_type": "code",
   "execution_count": null,
   "metadata": {
    "id": "5003L89wTyRG"
   },
   "outputs": [],
   "source": [
    "from sklearn.neighbors import KNeighborsClassifier\n",
    "from sklearn.model_selection import GridSearchCV"
   ]
  },
  {
   "cell_type": "code",
   "execution_count": null,
   "metadata": {
    "id": "ElpW6guETyRG"
   },
   "outputs": [],
   "source": [
    "knn = KNeighborsClassifier(n_neighbors=5)"
   ]
  },
  {
   "cell_type": "code",
   "execution_count": null,
   "metadata": {
    "colab": {
     "base_uri": "https://localhost:8080/"
    },
    "id": "0dYjGdJbTyRG",
    "outputId": "1a35ca3e-f8b2-44ab-c8bf-647447613a3f"
   },
   "outputs": [],
   "source": [
    "# fit\n",
    "knn.fit(X_train,y_train)"
   ]
  },
  {
   "cell_type": "code",
   "execution_count": null,
   "metadata": {
    "id": "LpNguoVRTyRG"
   },
   "outputs": [],
   "source": [
    "# Making predictions\n",
    "predictions_knn = knn.predict(X_test)"
   ]
  },
  {
   "cell_type": "code",
   "execution_count": null,
   "metadata": {
    "colab": {
     "base_uri": "https://localhost:8080/"
    },
    "id": "3T_L5p3bTyRG",
    "outputId": "ac747505-8fdc-4359-f59e-abd87eefa53d"
   },
   "outputs": [],
   "source": [
    "# Let's check the report of our default model\n",
    "print(classification_report(y_test,predictions_knn))"
   ]
  },
  {
   "cell_type": "code",
   "execution_count": null,
   "metadata": {
    "colab": {
     "base_uri": "https://localhost:8080/",
     "height": 312
    },
    "id": "PoBsKHrDTyRG",
    "outputId": "7570a3fb-9854-4ff7-ed3a-e2d2695457a5"
   },
   "outputs": [],
   "source": [
    "# Printing confusion matrix\n",
    "# from sklearn.metrics import confusion_matrix, ConfusionMatrixDisplay\n",
    "# cm = confusion_matrix(y_test,predictions_dtc,labels=[0, 1])\n",
    "# disp = ConfusionMatrixDisplay(confusion_matrix=cm,display_labels=['Not Fraud', 'Fraud'])\n",
    "# disp.plot()\n",
    "\n",
    "skplt.metrics.plot_confusion_matrix(y_test,predictions_knn,labels=[0,1])"
   ]
  },
  {
   "cell_type": "code",
   "execution_count": null,
   "metadata": {
    "colab": {
     "base_uri": "https://localhost:8080/"
    },
    "id": "zrQ4FkzXTyRH",
    "outputId": "472b252c-1fcf-4344-a49b-ed18e1bb3cae"
   },
   "outputs": [],
   "source": [
    "print('Accuracy score:',accuracy_score(y_test,predictions_knn))"
   ]
  },
  {
   "cell_type": "code",
   "execution_count": null,
   "metadata": {
    "colab": {
     "base_uri": "https://localhost:8080/"
    },
    "id": "A5aoaC6tTyRH",
    "outputId": "53bf9d8e-14e2-491f-8d42-dca0d88c7091"
   },
   "outputs": [],
   "source": [
    "print('ROC Accuracy:', roc_auc_score(y_test,predictions_knn))"
   ]
  },
  {
   "cell_type": "code",
   "execution_count": null,
   "metadata": {
    "colab": {
     "base_uri": "https://localhost:8080/"
    },
    "id": "ufMoCn5JTyRH",
    "outputId": "1d8185c8-ef13-4bdd-86dc-524e0330ae2f"
   },
   "outputs": [],
   "source": [
    "param_grid={'n_neighbors': np.arange(1,10)}\n",
    "\n",
    "knn_cv = GridSearchCV(knn,param_grid,cv=5)\n",
    "\n",
    "knn_cv.fit(X_train,y_train)"
   ]
  },
  {
   "cell_type": "code",
   "execution_count": null,
   "metadata": {
    "colab": {
     "base_uri": "https://localhost:8080/"
    },
    "id": "ikGIjl9OTyRH",
    "outputId": "97b2099e-b3d5-4b6a-afdf-e7f427d28c35"
   },
   "outputs": [],
   "source": [
    "print(knn_cv.best_params_)"
   ]
  },
  {
   "cell_type": "code",
   "execution_count": null,
   "metadata": {
    "id": "q2QqdCTZTyRH"
   },
   "outputs": [],
   "source": [
    "knn2 = KNeighborsClassifier(n_neighbors=1)"
   ]
  },
  {
   "cell_type": "code",
   "execution_count": null,
   "metadata": {
    "colab": {
     "base_uri": "https://localhost:8080/"
    },
    "id": "J0bULUwoTyRH",
    "outputId": "d1c7cf57-6944-45c7-8a69-6384ff223234"
   },
   "outputs": [],
   "source": [
    "# fit\n",
    "knn2.fit(X_train,y_train)"
   ]
  },
  {
   "cell_type": "code",
   "execution_count": null,
   "metadata": {
    "colab": {
     "base_uri": "https://localhost:8080/"
    },
    "id": "b5MC4SPuTyRH",
    "outputId": "f1b34705-88d4-4914-c833-d25e4c772cf0"
   },
   "outputs": [],
   "source": [
    "# Let's check the report of our default model\n",
    "print(classification_report(y_test,predictions_knn2))"
   ]
  },
  {
   "cell_type": "code",
   "execution_count": null,
   "metadata": {
    "id": "OhSCtXxJTyRI"
   },
   "outputs": [],
   "source": [
    "# Making predictions\n",
    "predictions_knn2 = knn2.predict(X_test)"
   ]
  },
  {
   "cell_type": "code",
   "execution_count": null,
   "metadata": {
    "colab": {
     "base_uri": "https://localhost:8080/"
    },
    "id": "15qS_QKQTyRI",
    "outputId": "471b7277-4d24-484f-f407-2eb08adcca8f"
   },
   "outputs": [],
   "source": [
    "print('Accuracy score:',accuracy_score(y_test,predictions_knn2))"
   ]
  },
  {
   "cell_type": "code",
   "execution_count": null,
   "metadata": {
    "colab": {
     "base_uri": "https://localhost:8080/"
    },
    "id": "qFyXaDBoTyRI",
    "outputId": "d5c0eff5-6809-4161-cbf8-73d7b6054243"
   },
   "outputs": [],
   "source": [
    "print('ROC Accuracy:', roc_auc_score(y_test,predictions_knn2))"
   ]
  },
  {
   "cell_type": "markdown",
   "metadata": {
    "id": "h_6KJtEJUnMv",
    "jp-MarkdownHeadingCollapsed": true,
    "tags": []
   },
   "source": [
    "## Principal Component Analysis (PCA)"
   ]
  },
  {
   "cell_type": "code",
   "execution_count": null,
   "metadata": {
    "id": "hZjjHjbS5oRq"
   },
   "outputs": [],
   "source": [
    "# import seaborn as sns\n",
    "# X_df = pd.DataFrame(df)\n",
    "# plt.figure(figsize=(20,20))\n",
    "# sns.heatmap(X_df.corr(), vmax=1, square=True,annot=True,cmap='cubehelix')"
   ]
  },
  {
   "cell_type": "code",
   "execution_count": null,
   "metadata": {
    "id": "-LCpWNKx_7ji"
   },
   "outputs": [],
   "source": [
    "X = df.iloc[1:20000, :]\n",
    "y = X.pop('Class')"
   ]
  },
  {
   "cell_type": "code",
   "execution_count": null,
   "metadata": {
    "id": "5TLLoxc3AAVR"
   },
   "outputs": [],
   "source": [
    "from sklearn.preprocessing import StandardScaler\n",
    "\n",
    "scaler = StandardScaler()\n",
    "X_std = scaler.fit_transform(X)"
   ]
  },
  {
   "cell_type": "code",
   "execution_count": null,
   "metadata": {
    "colab": {
     "base_uri": "https://localhost:8080/"
    },
    "id": "UVF_YKyt6dJn",
    "outputId": "afac5c48-d16e-473d-8e1c-ed324c699867"
   },
   "outputs": [],
   "source": [
    "X_std.shape"
   ]
  },
  {
   "cell_type": "code",
   "execution_count": null,
   "metadata": {
    "colab": {
     "base_uri": "https://localhost:8080/",
     "height": 297
    },
    "id": "tv8HIXwhUn-V",
    "outputId": "717564f5-de11-4769-f8d4-3854e649cbd1"
   },
   "outputs": [],
   "source": [
    "from sklearn.decomposition import PCA\n",
    "pca = PCA().fit(X_std)\n",
    "plt.plot(np.cumsum(pca.explained_variance_ratio_))\n",
    "plt.xlim(0,28,1)\n",
    "plt.xlabel('Number of components')\n",
    "plt.ylabel('Cumulative explained variance')"
   ]
  },
  {
   "cell_type": "code",
   "execution_count": null,
   "metadata": {
    "colab": {
     "base_uri": "https://localhost:8080/",
     "height": 297
    },
    "id": "22_mOr9NGPxb",
    "outputId": "fd491414-6de4-4280-ff00-2470e19f9557"
   },
   "outputs": [],
   "source": [
    "var_exp= pca.explained_variance_ratio_\n",
    "\n",
    "plt.figure(figsize=(6, 4))\n",
    "plt.bar(range(28), var_exp, alpha=0.5, align='center',label='individual explained variance')\n",
    "plt.ylabel('Explained variance ratio')\n",
    "plt.xlabel('Principal components')\n",
    "plt.legend(loc='best')\n",
    "plt.tight_layout()"
   ]
  },
  {
   "cell_type": "code",
   "execution_count": null,
   "metadata": {
    "id": "EFXgGXWBUr4x"
   },
   "outputs": [],
   "source": [
    "pca = PCA(n_components=10)\n",
    "X_pca = pca.fit_transform(X_std)"
   ]
  },
  {
   "cell_type": "code",
   "execution_count": null,
   "metadata": {
    "id": "j8WdMrN1ESp-"
   },
   "outputs": [],
   "source": [
    "var_exp= pca.explained_variance_ratio_"
   ]
  },
  {
   "cell_type": "code",
   "execution_count": null,
   "metadata": {
    "colab": {
     "base_uri": "https://localhost:8080/",
     "height": 297
    },
    "id": "FCKghqnUFvBy",
    "outputId": "111b1881-5808-4d49-c565-31c0e1ec6834"
   },
   "outputs": [],
   "source": [
    "plt.figure(figsize=(6, 4))\n",
    "plt.bar(range(10), var_exp, alpha=0.5, align='center',label='individual explained variance')\n",
    "plt.ylabel('Explained variance ratio')\n",
    "plt.xlabel('Principal components')\n",
    "plt.legend(loc='best')\n",
    "plt.tight_layout()"
   ]
  },
  {
   "cell_type": "code",
   "execution_count": null,
   "metadata": {
    "colab": {
     "base_uri": "https://localhost:8080/"
    },
    "id": "wdHA1ufC9QMl",
    "outputId": "0328bfac-a1d0-4d1d-818e-d74f6d6394be"
   },
   "outputs": [],
   "source": [
    "X_pca.shape"
   ]
  },
  {
   "cell_type": "code",
   "execution_count": null,
   "metadata": {
    "colab": {
     "base_uri": "https://localhost:8080/"
    },
    "id": "_OrQjGVa_dFe",
    "outputId": "b53a433e-f677-4864-e38f-2e2dcd77f4f7"
   },
   "outputs": [],
   "source": [
    "X_pca"
   ]
  },
  {
   "cell_type": "code",
   "execution_count": null,
   "metadata": {
    "colab": {
     "base_uri": "https://localhost:8080/",
     "height": 406
    },
    "id": "5PPKK3bNUw8F",
    "outputId": "1e49b4a2-331d-4ff4-cf86-458b3618c504"
   },
   "outputs": [],
   "source": [
    "plt.figure(figsize=(8,6))\n",
    "plt.scatter(X_pca[:,0],X_pca[:,1],c=y)\n",
    "plt.xlabel('First Principal Componnet')\n",
    "plt.ylabel('Second Principal Component')"
   ]
  },
  {
   "cell_type": "code",
   "execution_count": null,
   "metadata": {
    "id": "Mm6A4rwBVYmA"
   },
   "outputs": [],
   "source": [
    "from sklearn.model_selection import train_test_split\n",
    "\n",
    "X_train, X_test, y_train, y_test = train_test_split(X_pca, y, test_size=0.30, random_state=101)"
   ]
  },
  {
   "cell_type": "code",
   "execution_count": null,
   "metadata": {
    "id": "zIHpyvgGUzAw"
   },
   "outputs": [],
   "source": [
    "from sklearn.linear_model import LogisticRegression\n",
    "lr = LogisticRegression()"
   ]
  },
  {
   "cell_type": "code",
   "execution_count": null,
   "metadata": {
    "colab": {
     "base_uri": "https://localhost:8080/"
    },
    "id": "QLe9aw-hDNLN",
    "outputId": "016db050-bcb4-4bbc-ba4f-ae09bdb5bc3d"
   },
   "outputs": [],
   "source": [
    "lr.fit(X_train,y_train)"
   ]
  },
  {
   "cell_type": "code",
   "execution_count": null,
   "metadata": {
    "id": "Alcz2-mHVw5P"
   },
   "outputs": [],
   "source": [
    "# Making predictions\n",
    "predictions_lr = lr.predict(X_test)"
   ]
  },
  {
   "cell_type": "code",
   "execution_count": null,
   "metadata": {
    "colab": {
     "base_uri": "https://localhost:8080/"
    },
    "id": "-fRC7Z0yDIIc",
    "outputId": "fe7c8018-f63e-4379-c599-bdb52c09ad59"
   },
   "outputs": [],
   "source": [
    "# Let's check the report of our default model\n",
    "from sklearn.metrics import classification_report\n",
    "print(classification_report(y_test,predictions_lr))"
   ]
  },
  {
   "cell_type": "code",
   "execution_count": null,
   "metadata": {
    "colab": {
     "base_uri": "https://localhost:8080/"
    },
    "id": "KF8NIQNEDob0",
    "outputId": "949319d8-d733-4368-977f-a5d846761533"
   },
   "outputs": [],
   "source": [
    "!pip install scikit-plot"
   ]
  },
  {
   "cell_type": "code",
   "execution_count": null,
   "metadata": {
    "colab": {
     "base_uri": "https://localhost:8080/",
     "height": 313
    },
    "id": "Zz4QehdXDVPz",
    "outputId": "f6168c55-b2d1-4b75-c9cc-cddbc15eb9a1"
   },
   "outputs": [],
   "source": [
    "# Printing confusion matrix\n",
    "# from sklearn.metrics import confusion_matrix, ConfusionMatrixDisplay\n",
    "# cm = confusion_matrix(y_test,predictions_lr,labels=[0, 1])\n",
    "# disp = ConfusionMatrixDisplay(confusion_matrix=cm,display_labels=['Not Fraud', 'Fraud'])\n",
    "# disp.plot()\n",
    "\n",
    "import scikitplot as skplt\n",
    "skplt.metrics.plot_confusion_matrix(y_test,predictions_lr,labels=[0,1])\n"
   ]
  },
  {
   "cell_type": "code",
   "execution_count": null,
   "metadata": {
    "colab": {
     "base_uri": "https://localhost:8080/"
    },
    "id": "VV3jxim4Dm3c",
    "outputId": "24f604c7-ee67-4f8e-fdab-bf2836e25b4f"
   },
   "outputs": [],
   "source": [
    "from sklearn.metrics import accuracy_score\n",
    "print('Accuracy score:',accuracy_score(y_test,predictions_lr))"
   ]
  },
  {
   "cell_type": "code",
   "execution_count": null,
   "metadata": {
    "colab": {
     "base_uri": "https://localhost:8080/"
    },
    "id": "A3mz3tIQDyWU",
    "outputId": "72e386a9-34bc-4f52-cbab-99dbca4fa04a"
   },
   "outputs": [],
   "source": [
    "from sklearn.metrics import roc_auc_score\n",
    "print('ROC Accuracy:', roc_auc_score(y_test,predictions_lr))"
   ]
  },
  {
   "cell_type": "markdown",
   "metadata": {
    "id": "5B8eaDIGGpBn"
   },
   "source": [
    "### Compute PCA Manually"
   ]
  },
  {
   "cell_type": "code",
   "execution_count": null,
   "metadata": {
    "id": "SaKs-6IzD1-e"
   },
   "outputs": [],
   "source": [
    "cov_mat= np.cov(X_std.T)"
   ]
  },
  {
   "cell_type": "code",
   "execution_count": null,
   "metadata": {
    "id": "GxhLsgkJEceZ"
   },
   "outputs": [],
   "source": [
    "eig_vals, eig_vecs = np.linalg.eig(cov_mat)"
   ]
  },
  {
   "cell_type": "code",
   "execution_count": null,
   "metadata": {
    "id": "8MfFrcUWE0oy"
   },
   "outputs": [],
   "source": [
    "tot = sum(eig_vals)\n",
    "var_exp = [(i / tot) for i in sorted(eig_vals, reverse=True)]"
   ]
  },
  {
   "cell_type": "code",
   "execution_count": null,
   "metadata": {
    "colab": {
     "base_uri": "https://localhost:8080/",
     "height": 297
    },
    "id": "G8e0xmi7FnYK",
    "outputId": "ddaea9bd-c690-41dc-8cf0-984be635460a"
   },
   "outputs": [],
   "source": [
    "plt.figure(figsize=(6, 4))\n",
    "plt.bar(range(28), var_exp, alpha=0.5, align='center',label='individual explained variance')\n",
    "plt.ylabel('Explained variance ratio')\n",
    "plt.xlabel('Principal components')\n",
    "plt.legend(loc='best')\n",
    "plt.tight_layout()"
   ]
  }
 ],
 "metadata": {
  "accelerator": "GPU",
  "colab": {
   "name": "CMLS_Code.ipynb",
   "provenance": []
  },
  "gpuClass": "standard",
  "kernelspec": {
   "display_name": "Python 3 (ipykernel)",
   "language": "python",
   "name": "python3"
  },
  "language_info": {
   "codemirror_mode": {
    "name": "ipython",
    "version": 3
   },
   "file_extension": ".py",
   "mimetype": "text/x-python",
   "name": "python",
   "nbconvert_exporter": "python",
   "pygments_lexer": "ipython3",
   "version": "3.7.11"
  }
 },
 "nbformat": 4,
 "nbformat_minor": 4
}
