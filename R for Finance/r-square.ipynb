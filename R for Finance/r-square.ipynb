{
 "cells": [
  {
   "cell_type": "code",
   "execution_count": 12,
   "id": "cc12d585-fc21-4491-81d0-34842f3e9471",
   "metadata": {},
   "outputs": [
    {
     "data": {
      "image/png": "[encoded data removed]",
      "text/plain": [
       "<Figure size 432x288 with 1 Axes>"
      ]
     },
     "metadata": {
      "needs_background": "light"
     },
     "output_type": "display_data"
    }
   ],
   "source": [
    "import numpy as np\n",
    "import matplotlib.pyplot as plt\n",
    "from scipy import stats\n",
    "\n",
    "#creating data\n",
    "x = np.array([0,1,2,3,4,5,6,7,8,9])\n",
    "y = np.array([0,2,3,5,8,13,21,34,55,89])\n",
    "\n",
    "#creating OLS regression\n",
    "slope, intercept, r_value, p_value, std_err = stats.linregress(x,y)\n",
    "def regression(b):\n",
    "    return intercept + slope * b\n",
    "y_pred = regression(x)\n",
    "\n",
    "#plot line\n",
    "plt.scatter(x,y)\n",
    "plt.plot(x,y_pred, c = 'r')\n",
    "plt.show()"
   ]
  },
  {
   "cell_type": "code",
   "execution_count": 13,
   "id": "57f329c3-8a5d-43eb-9227-c7b657292ce2",
   "metadata": {},
   "outputs": [
    {
     "data": {
      "text/plain": [
       "0.7670001449905754"
      ]
     },
     "execution_count": 13,
     "metadata": {},
     "output_type": "execute_result"
    }
   ],
   "source": [
    "# Compute R Square\n",
    "r_value*r_value"
   ]
  },
  {
   "cell_type": "code",
   "execution_count": 6,
   "id": "ca57faf4-a600-43a4-90be-68ac708c5d8f",
   "metadata": {},
   "outputs": [
    {
     "data": {
      "text/plain": [
       "175.3090909090909"
      ]
     },
     "execution_count": 6,
     "metadata": {},
     "output_type": "execute_result"
    }
   ],
   "source": [
    "from sklearn.metrics import mean_squared_error\n",
    "mse = mean_squared_error(y,y_pred)\n",
    "mse"
   ]
  },
  {
   "cell_type": "code",
   "execution_count": 14,
   "id": "221c4e35-e004-4fb8-856d-fb7d9dd8d401",
   "metadata": {},
   "outputs": [
    {
     "data": {
      "text/plain": [
       "0.7670001449905756"
      ]
     },
     "execution_count": 14,
     "metadata": {},
     "output_type": "execute_result"
    }
   ],
   "source": [
    "# Compute R Square by formua\n",
    "rsq = (y.var()-mse)/y.var()\n",
    "rsq"
   ]
  },
  {
   "cell_type": "code",
   "execution_count": 11,
   "id": "d41e6196-5dd2-4543-90e4-92296726f88a",
   "metadata": {},
   "outputs": [
    {
     "data": {
      "text/plain": [
       "0.7670001449905754"
      ]
     },
     "execution_count": 11,
     "metadata": {},
     "output_type": "execute_result"
    }
   ],
   "source": []
  },
  {
   "cell_type": "code",
   "execution_count": null,
   "id": "a303a471-b566-42cd-9e29-0cbc0e2a276c",
   "metadata": {},
   "outputs": [],
   "source": []
  }
 ],
 "metadata": {
  "kernelspec": {
   "display_name": "Python 3 (ipykernel)",
   "language": "python",
   "name": "python3"
  },
  "language_info": {
   "codemirror_mode": {
    "name": "ipython",
    "version": 3
   },
   "file_extension": ".py",
   "mimetype": "text/x-python",
   "name": "python",
   "nbconvert_exporter": "python",
   "pygments_lexer": "ipython3",
   "version": "3.7.11"
  }
 },
 "nbformat": 4,
 "nbformat_minor": 5
}
